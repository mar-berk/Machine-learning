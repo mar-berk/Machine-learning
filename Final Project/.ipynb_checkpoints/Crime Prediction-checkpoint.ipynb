{
 "cells": [
  {
   "cell_type": "markdown",
   "metadata": {},
   "source": [
    "# Predicting if a firearm is involved in a crime"
   ]
  },
  {
   "cell_type": "markdown",
   "metadata": {},
   "source": [
    "#### Using Kansas City Police Department Crime Data 2020"
   ]
  },
  {
   "cell_type": "markdown",
   "metadata": {},
   "source": [
    "Marissa Berk"
   ]
  },
  {
   "cell_type": "markdown",
   "metadata": {},
   "source": [
    "## Introduction"
   ]
  },
  {
   "cell_type": "markdown",
   "metadata": {},
   "source": [
    "Police departments record all crime reports, arrests and details pertaining to these items. This wealth of data can be used to make more accurate predictions; this is referred to as _predictive policing_ or the act of using statistical data to guide police in their decision-making. \n",
    "\n",
    "There are many arguments for and against predictive policing. Information from statistical historical data is used to make predictions in order to use law enforcement resources and individuals more efficiently (Ratcliffe, 2004). However, since predictive policing relies on historical data, which is riddled with bias and discrimination; the implementation of predictive policing could result in an increase in bias and discriminatory police interventions. \n",
    "\n",
    "My goal is to create a prediction system that can actually decrease confrontation and potential bias in a police confrontation. My accurately predicting whether a firearm is involved in a crime report, police can de-escelate the situation and avoid unneccesarry confrontations, injuries, and/ or deaths."
   ]
  },
  {
   "cell_type": "markdown",
   "metadata": {},
   "source": [
    "###### Research Question: \n",
    "How can we predict if a firearm is involved in a crime based on historical KCPD data?\n",
    "###### Sub Question:\n",
    "How can predictive policing be used to reduce discrimination and confrontation? "
   ]
  },
  {
   "cell_type": "markdown",
   "metadata": {},
   "source": [
    "## Data Set"
   ]
  },
  {
   "cell_type": "markdown",
   "metadata": {},
   "source": [
    "Using the _K-nearest-neighbor_ algorithm, I will predict if a firearm is involved in a crime within the KCPD jurisdiction. \n",
    "When responding to 911 calls or crime reports, de-escilation is key. If an algorithm can be used to accurately predict whether or not the suspect has a firearm, a more approrpriate police response can be executed. \n",
    "\n",
    "The dataset used; _KCPD Crime Data 2020_ can be found here https://data.kcmo.org/Crime/KCPD-Crime-Data-2020/vsgj-uufz "
   ]
  },
  {
   "cell_type": "code",
   "execution_count": 1,
   "metadata": {},
   "outputs": [],
   "source": [
    "import seaborn as sns\n",
    "import sklearn as sk\n",
    "import pandas as pd\n",
    "import datetime\n",
    "import matplotlib.pyplot as plt\n",
    "from sklearn.model_selection import train_test_split #We need this to split the data\n"
   ]
  },
  {
   "cell_type": "code",
   "execution_count": 2,
   "metadata": {},
   "outputs": [
    {
     "data": {
      "text/html": [
       "<div>\n",
       "<style scoped>\n",
       "    .dataframe tbody tr th:only-of-type {\n",
       "        vertical-align: middle;\n",
       "    }\n",
       "\n",
       "    .dataframe tbody tr th {\n",
       "        vertical-align: top;\n",
       "    }\n",
       "\n",
       "    .dataframe thead th {\n",
       "        text-align: right;\n",
       "    }\n",
       "</style>\n",
       "<table border=\"1\" class=\"dataframe\">\n",
       "  <thead>\n",
       "    <tr style=\"text-align: right;\">\n",
       "      <th></th>\n",
       "      <th>Report_No</th>\n",
       "      <th>Reported_Date</th>\n",
       "      <th>Reported_Time</th>\n",
       "      <th>From_Date</th>\n",
       "      <th>From_Time</th>\n",
       "      <th>To_Date</th>\n",
       "      <th>To_Time</th>\n",
       "      <th>Offense</th>\n",
       "      <th>IBRS</th>\n",
       "      <th>Description</th>\n",
       "      <th>...</th>\n",
       "      <th>Zip Code</th>\n",
       "      <th>Rep_Dist</th>\n",
       "      <th>Area</th>\n",
       "      <th>DVFlag</th>\n",
       "      <th>Involvement</th>\n",
       "      <th>Race</th>\n",
       "      <th>Sex</th>\n",
       "      <th>Age</th>\n",
       "      <th>Firearm_Used</th>\n",
       "      <th>Location</th>\n",
       "    </tr>\n",
       "  </thead>\n",
       "  <tbody>\n",
       "    <tr>\n",
       "      <td>647</td>\n",
       "      <td>KC20013824</td>\n",
       "      <td>2/23/20</td>\n",
       "      <td>22:15</td>\n",
       "      <td>2/18/20</td>\n",
       "      <td>19:46</td>\n",
       "      <td>2/19/20</td>\n",
       "      <td>6:45</td>\n",
       "      <td>Burglary (Residential)</td>\n",
       "      <td>220</td>\n",
       "      <td>Burglary/Breaking and Entering</td>\n",
       "      <td>...</td>\n",
       "      <td>64128.0</td>\n",
       "      <td>PJ2325</td>\n",
       "      <td>CPD</td>\n",
       "      <td>N</td>\n",
       "      <td>ARR SUS</td>\n",
       "      <td>B</td>\n",
       "      <td>M</td>\n",
       "      <td>36.0</td>\n",
       "      <td>False</td>\n",
       "      <td>1500  E 29TH ST\\nKANSAS CITY 64128\\n(39.074446...</td>\n",
       "    </tr>\n",
       "    <tr>\n",
       "      <td>706</td>\n",
       "      <td>KC20001720</td>\n",
       "      <td>1/7/20</td>\n",
       "      <td>18:35</td>\n",
       "      <td>1/7/20</td>\n",
       "      <td>18:35</td>\n",
       "      <td>1/7/20</td>\n",
       "      <td>20:36</td>\n",
       "      <td>Stealing – Shoplift</td>\n",
       "      <td>23C</td>\n",
       "      <td>Shoplifting</td>\n",
       "      <td>...</td>\n",
       "      <td>64155.0</td>\n",
       "      <td>PC0323</td>\n",
       "      <td>NPD</td>\n",
       "      <td>N</td>\n",
       "      <td>SUS</td>\n",
       "      <td>W</td>\n",
       "      <td>M</td>\n",
       "      <td>30.0</td>\n",
       "      <td>False</td>\n",
       "      <td>1600  NW 88TH ST\\nKANSAS CITY 64155\\n(39.25513...</td>\n",
       "    </tr>\n",
       "    <tr>\n",
       "      <td>711</td>\n",
       "      <td>KC20002205</td>\n",
       "      <td>1/9/20</td>\n",
       "      <td>15:26</td>\n",
       "      <td>12/27/19</td>\n",
       "      <td>9:00</td>\n",
       "      <td>12/30/19</td>\n",
       "      <td>16:00</td>\n",
       "      <td>Stolen Auto</td>\n",
       "      <td>240</td>\n",
       "      <td>Motor Vehicle Theft</td>\n",
       "      <td>...</td>\n",
       "      <td>64108.0</td>\n",
       "      <td>PJ1938</td>\n",
       "      <td>CPD</td>\n",
       "      <td>N</td>\n",
       "      <td>VIC</td>\n",
       "      <td>B</td>\n",
       "      <td>M</td>\n",
       "      <td>83.0</td>\n",
       "      <td>False</td>\n",
       "      <td>2300  HOLMES ST\\nKANSAS CITY 64108\\n(39.084761...</td>\n",
       "    </tr>\n",
       "    <tr>\n",
       "      <td>944</td>\n",
       "      <td>KC20013925</td>\n",
       "      <td>2/24/20</td>\n",
       "      <td>10:30</td>\n",
       "      <td>2/24/20</td>\n",
       "      <td>1:00</td>\n",
       "      <td>2/24/20</td>\n",
       "      <td>6:00</td>\n",
       "      <td>Stolen Auto</td>\n",
       "      <td>240</td>\n",
       "      <td>Motor Vehicle Theft</td>\n",
       "      <td>...</td>\n",
       "      <td>64127.0</td>\n",
       "      <td>PJ2053</td>\n",
       "      <td>EPD</td>\n",
       "      <td>N</td>\n",
       "      <td>ARR CHA INA SUS VDR</td>\n",
       "      <td>W</td>\n",
       "      <td>M</td>\n",
       "      <td>39.0</td>\n",
       "      <td>False</td>\n",
       "      <td>2400  CYPRESS AVE\\nKANSAS CITY 64127\\n(39.0820...</td>\n",
       "    </tr>\n",
       "    <tr>\n",
       "      <td>977</td>\n",
       "      <td>KC20011846</td>\n",
       "      <td>2/16/20</td>\n",
       "      <td>6:46</td>\n",
       "      <td>2/16/20</td>\n",
       "      <td>6:45</td>\n",
       "      <td>2/16/20</td>\n",
       "      <td>6:46</td>\n",
       "      <td>Stolen Auto</td>\n",
       "      <td>240</td>\n",
       "      <td>Motor Vehicle Theft</td>\n",
       "      <td>...</td>\n",
       "      <td>64102.0</td>\n",
       "      <td>PJ1082</td>\n",
       "      <td>CPD</td>\n",
       "      <td>N</td>\n",
       "      <td>SUS</td>\n",
       "      <td>B</td>\n",
       "      <td>M</td>\n",
       "      <td>25.0</td>\n",
       "      <td>False</td>\n",
       "      <td>1500  W 12TH ST\\nKANSAS CITY 64102\\n(39.100637...</td>\n",
       "    </tr>\n",
       "  </tbody>\n",
       "</table>\n",
       "<p>5 rows × 23 columns</p>\n",
       "</div>"
      ],
      "text/plain": [
       "      Report_No Reported_Date Reported_Time From_Date From_Time   To_Date  \\\n",
       "647  KC20013824       2/23/20         22:15   2/18/20     19:46   2/19/20   \n",
       "706  KC20001720        1/7/20         18:35    1/7/20     18:35    1/7/20   \n",
       "711  KC20002205        1/9/20         15:26  12/27/19      9:00  12/30/19   \n",
       "944  KC20013925       2/24/20         10:30   2/24/20      1:00   2/24/20   \n",
       "977  KC20011846       2/16/20          6:46   2/16/20      6:45   2/16/20   \n",
       "\n",
       "    To_Time                 Offense IBRS                     Description  ...  \\\n",
       "647    6:45  Burglary (Residential)  220  Burglary/Breaking and Entering  ...   \n",
       "706   20:36     Stealing – Shoplift  23C                     Shoplifting  ...   \n",
       "711   16:00             Stolen Auto  240             Motor Vehicle Theft  ...   \n",
       "944    6:00             Stolen Auto  240             Motor Vehicle Theft  ...   \n",
       "977    6:46             Stolen Auto  240             Motor Vehicle Theft  ...   \n",
       "\n",
       "    Zip Code Rep_Dist Area  DVFlag          Involvement Race Sex   Age  \\\n",
       "647  64128.0   PJ2325  CPD       N              ARR SUS    B   M  36.0   \n",
       "706  64155.0   PC0323  NPD       N                  SUS    W   M  30.0   \n",
       "711  64108.0   PJ1938  CPD       N                  VIC    B   M  83.0   \n",
       "944  64127.0   PJ2053  EPD       N  ARR CHA INA SUS VDR    W   M  39.0   \n",
       "977  64102.0   PJ1082  CPD       N                  SUS    B   M  25.0   \n",
       "\n",
       "    Firearm_Used                                           Location  \n",
       "647        False  1500  E 29TH ST\\nKANSAS CITY 64128\\n(39.074446...  \n",
       "706        False  1600  NW 88TH ST\\nKANSAS CITY 64155\\n(39.25513...  \n",
       "711        False  2300  HOLMES ST\\nKANSAS CITY 64108\\n(39.084761...  \n",
       "944        False  2400  CYPRESS AVE\\nKANSAS CITY 64127\\n(39.0820...  \n",
       "977        False  1500  W 12TH ST\\nKANSAS CITY 64102\\n(39.100637...  \n",
       "\n",
       "[5 rows x 23 columns]"
      ]
     },
     "execution_count": 2,
     "metadata": {},
     "output_type": "execute_result"
    }
   ],
   "source": [
    "df = pd.read_csv('KCPD_Crime_Data_2020.csv')\n",
    "df = df.dropna() #first get rid of rows with empty cells \n",
    "df.head() #let's take a look at the dataset"
   ]
  },
  {
   "cell_type": "markdown",
   "metadata": {},
   "source": [
    "The variable `Firearm_used` shows whether or not a firearm was used in the crime reported. This means that `Firearm_Used` will be the _dependent variable_ (Y variable). The _independent variables_ (X variables) used will be determined by how well they correlate with the Y variable.  "
   ]
  },
  {
   "cell_type": "markdown",
   "metadata": {},
   "source": [
    "# Data Cleaning & Feature Engineering"
   ]
  },
  {
   "cell_type": "markdown",
   "metadata": {},
   "source": [
    "First, we have to make dummy variables to change the categorical variables into a numerical format so we can see them in the correlation table."
   ]
  },
  {
   "cell_type": "code",
   "execution_count": 3,
   "metadata": {},
   "outputs": [],
   "source": [
    "dummies = pd.get_dummies(df['Area'])#make dummie variables for the area\n",
    "dummies\n",
    "df = pd.concat([df, dummies], axis=1) #the axis=1 means: add it to the columns\n"
   ]
  },
  {
   "cell_type": "code",
   "execution_count": 4,
   "metadata": {},
   "outputs": [],
   "source": [
    "dummies = pd.get_dummies(df['DVFlag']).rename(columns=lambda x: 'DVFlag_' + str(x))#make dummie variables for the domestic violence flag\n",
    "dummies\n",
    "df = pd.concat([df, dummies], axis=1) #the axis=1 means: add it to the columns\n"
   ]
  },
  {
   "cell_type": "code",
   "execution_count": 5,
   "metadata": {},
   "outputs": [],
   "source": [
    "dummies = pd.get_dummies(df['Sex'])#make dummie variables for the gender\n",
    "dummies\n",
    "df = pd.concat([df, dummies], axis=1) #the axis=1 means: add it to the columns\n"
   ]
  },
  {
   "cell_type": "code",
   "execution_count": 6,
   "metadata": {},
   "outputs": [],
   "source": [
    "dummies = pd.get_dummies(df['Firearm_Used'])#make dummie variables for the firearm used flag\n",
    "dummies\n",
    "df = pd.concat([df, dummies], axis=1) #the axis=1 means: add it to the columns"
   ]
  },
  {
   "cell_type": "markdown",
   "metadata": {},
   "source": [
    "###### Datetime format\n",
    "Now we need to use datetime to properly read the date and time variables."
   ]
  },
  {
   "cell_type": "markdown",
   "metadata": {},
   "source": [
    "First we convert the date the crime was reported into `datetime` format.\n",
    "Then we need to use _dayofweek_ from `datetime` to extract the day of the week. This is expressed numerically, with Monday=0, Sunday=6. "
   ]
  },
  {
   "cell_type": "code",
   "execution_count": 7,
   "metadata": {},
   "outputs": [],
   "source": [
    "df['Reported_Date'] = pd.to_datetime(df['Reported_Date']) #change to datetime format\n",
    "\n",
    "df['Weekday_flag'] = (df.Reported_Date.dt.dayofweek < 4) #0-3 indicates Monday, Tuesday, Wednesday, & Thurday\n",
    "\n"
   ]
  },
  {
   "cell_type": "markdown",
   "metadata": {},
   "source": [
    "###### Note:\n",
    "For the purpose of this prediction I will NOT include Friday as a weekday, since Friday and Saturday night tend to be the big 'going out' nights and therefore would affect the crimes occuring. Therefore, Friday will be included as part of the weekend."
   ]
  },
  {
   "cell_type": "markdown",
   "metadata": {},
   "source": [
    "Now let's create a dummy variable for the new weekday flag."
   ]
  },
  {
   "cell_type": "code",
   "execution_count": 8,
   "metadata": {},
   "outputs": [],
   "source": [
    "dummies = pd.get_dummies(df['Weekday_flag']).rename(columns=lambda x: 'Weekday_flag_' + str(x))#make dummie variables for the domestic violence flag\n",
    "dummies\n",
    "df = pd.concat([df, dummies], axis=1) #the axis=1 means: add it to the columns\n",
    "\n"
   ]
  },
  {
   "cell_type": "markdown",
   "metadata": {},
   "source": [
    "Now we need to convert the time the crime was reported into `datetime` format. Next, we will create a new variable titled _Day_Flag_ that flags whether a crime occured during the day (True) or at night (False)."
   ]
  },
  {
   "cell_type": "code",
   "execution_count": 9,
   "metadata": {},
   "outputs": [
    {
     "data": {
      "text/html": [
       "<div>\n",
       "<style scoped>\n",
       "    .dataframe tbody tr th:only-of-type {\n",
       "        vertical-align: middle;\n",
       "    }\n",
       "\n",
       "    .dataframe tbody tr th {\n",
       "        vertical-align: top;\n",
       "    }\n",
       "\n",
       "    .dataframe thead th {\n",
       "        text-align: right;\n",
       "    }\n",
       "</style>\n",
       "<table border=\"1\" class=\"dataframe\">\n",
       "  <thead>\n",
       "    <tr style=\"text-align: right;\">\n",
       "      <th></th>\n",
       "      <th>Report_No</th>\n",
       "      <th>Reported_Date</th>\n",
       "      <th>Reported_Time</th>\n",
       "      <th>From_Date</th>\n",
       "      <th>From_Time</th>\n",
       "      <th>To_Date</th>\n",
       "      <th>To_Time</th>\n",
       "      <th>Offense</th>\n",
       "      <th>IBRS</th>\n",
       "      <th>Description</th>\n",
       "      <th>...</th>\n",
       "      <th>DVFlag_Y</th>\n",
       "      <th>F</th>\n",
       "      <th>M</th>\n",
       "      <th>U</th>\n",
       "      <th>False</th>\n",
       "      <th>True</th>\n",
       "      <th>Weekday_flag</th>\n",
       "      <th>Weekday_flag_False</th>\n",
       "      <th>Weekday_flag_True</th>\n",
       "      <th>Day_flag</th>\n",
       "    </tr>\n",
       "  </thead>\n",
       "  <tbody>\n",
       "    <tr>\n",
       "      <td>647</td>\n",
       "      <td>KC20013824</td>\n",
       "      <td>2020-02-23</td>\n",
       "      <td>2021-01-22 22:15:00</td>\n",
       "      <td>2/18/20</td>\n",
       "      <td>19:46</td>\n",
       "      <td>2/19/20</td>\n",
       "      <td>6:45</td>\n",
       "      <td>Burglary (Residential)</td>\n",
       "      <td>220</td>\n",
       "      <td>Burglary/Breaking and Entering</td>\n",
       "      <td>...</td>\n",
       "      <td>0</td>\n",
       "      <td>0</td>\n",
       "      <td>1</td>\n",
       "      <td>0</td>\n",
       "      <td>1</td>\n",
       "      <td>0</td>\n",
       "      <td>False</td>\n",
       "      <td>1</td>\n",
       "      <td>0</td>\n",
       "      <td>False</td>\n",
       "    </tr>\n",
       "    <tr>\n",
       "      <td>706</td>\n",
       "      <td>KC20001720</td>\n",
       "      <td>2020-01-07</td>\n",
       "      <td>2021-01-22 18:35:00</td>\n",
       "      <td>1/7/20</td>\n",
       "      <td>18:35</td>\n",
       "      <td>1/7/20</td>\n",
       "      <td>20:36</td>\n",
       "      <td>Stealing – Shoplift</td>\n",
       "      <td>23C</td>\n",
       "      <td>Shoplifting</td>\n",
       "      <td>...</td>\n",
       "      <td>0</td>\n",
       "      <td>0</td>\n",
       "      <td>1</td>\n",
       "      <td>0</td>\n",
       "      <td>1</td>\n",
       "      <td>0</td>\n",
       "      <td>True</td>\n",
       "      <td>0</td>\n",
       "      <td>1</td>\n",
       "      <td>False</td>\n",
       "    </tr>\n",
       "    <tr>\n",
       "      <td>711</td>\n",
       "      <td>KC20002205</td>\n",
       "      <td>2020-01-09</td>\n",
       "      <td>2021-01-22 15:26:00</td>\n",
       "      <td>12/27/19</td>\n",
       "      <td>9:00</td>\n",
       "      <td>12/30/19</td>\n",
       "      <td>16:00</td>\n",
       "      <td>Stolen Auto</td>\n",
       "      <td>240</td>\n",
       "      <td>Motor Vehicle Theft</td>\n",
       "      <td>...</td>\n",
       "      <td>0</td>\n",
       "      <td>0</td>\n",
       "      <td>1</td>\n",
       "      <td>0</td>\n",
       "      <td>1</td>\n",
       "      <td>0</td>\n",
       "      <td>True</td>\n",
       "      <td>0</td>\n",
       "      <td>1</td>\n",
       "      <td>True</td>\n",
       "    </tr>\n",
       "    <tr>\n",
       "      <td>944</td>\n",
       "      <td>KC20013925</td>\n",
       "      <td>2020-02-24</td>\n",
       "      <td>2021-01-22 10:30:00</td>\n",
       "      <td>2/24/20</td>\n",
       "      <td>1:00</td>\n",
       "      <td>2/24/20</td>\n",
       "      <td>6:00</td>\n",
       "      <td>Stolen Auto</td>\n",
       "      <td>240</td>\n",
       "      <td>Motor Vehicle Theft</td>\n",
       "      <td>...</td>\n",
       "      <td>0</td>\n",
       "      <td>0</td>\n",
       "      <td>1</td>\n",
       "      <td>0</td>\n",
       "      <td>1</td>\n",
       "      <td>0</td>\n",
       "      <td>True</td>\n",
       "      <td>0</td>\n",
       "      <td>1</td>\n",
       "      <td>True</td>\n",
       "    </tr>\n",
       "    <tr>\n",
       "      <td>977</td>\n",
       "      <td>KC20011846</td>\n",
       "      <td>2020-02-16</td>\n",
       "      <td>2021-01-22 06:46:00</td>\n",
       "      <td>2/16/20</td>\n",
       "      <td>6:45</td>\n",
       "      <td>2/16/20</td>\n",
       "      <td>6:46</td>\n",
       "      <td>Stolen Auto</td>\n",
       "      <td>240</td>\n",
       "      <td>Motor Vehicle Theft</td>\n",
       "      <td>...</td>\n",
       "      <td>0</td>\n",
       "      <td>0</td>\n",
       "      <td>1</td>\n",
       "      <td>0</td>\n",
       "      <td>1</td>\n",
       "      <td>0</td>\n",
       "      <td>False</td>\n",
       "      <td>1</td>\n",
       "      <td>0</td>\n",
       "      <td>True</td>\n",
       "    </tr>\n",
       "  </tbody>\n",
       "</table>\n",
       "<p>5 rows × 41 columns</p>\n",
       "</div>"
      ],
      "text/plain": [
       "      Report_No Reported_Date       Reported_Time From_Date From_Time  \\\n",
       "647  KC20013824    2020-02-23 2021-01-22 22:15:00   2/18/20     19:46   \n",
       "706  KC20001720    2020-01-07 2021-01-22 18:35:00    1/7/20     18:35   \n",
       "711  KC20002205    2020-01-09 2021-01-22 15:26:00  12/27/19      9:00   \n",
       "944  KC20013925    2020-02-24 2021-01-22 10:30:00   2/24/20      1:00   \n",
       "977  KC20011846    2020-02-16 2021-01-22 06:46:00   2/16/20      6:45   \n",
       "\n",
       "      To_Date To_Time                 Offense IBRS  \\\n",
       "647   2/19/20    6:45  Burglary (Residential)  220   \n",
       "706    1/7/20   20:36     Stealing – Shoplift  23C   \n",
       "711  12/30/19   16:00             Stolen Auto  240   \n",
       "944   2/24/20    6:00             Stolen Auto  240   \n",
       "977   2/16/20    6:46             Stolen Auto  240   \n",
       "\n",
       "                        Description  ... DVFlag_Y  F  M  U False True  \\\n",
       "647  Burglary/Breaking and Entering  ...        0  0  1  0     1    0   \n",
       "706                     Shoplifting  ...        0  0  1  0     1    0   \n",
       "711             Motor Vehicle Theft  ...        0  0  1  0     1    0   \n",
       "944             Motor Vehicle Theft  ...        0  0  1  0     1    0   \n",
       "977             Motor Vehicle Theft  ...        0  0  1  0     1    0   \n",
       "\n",
       "    Weekday_flag Weekday_flag_False Weekday_flag_True Day_flag  \n",
       "647        False                  1                 0    False  \n",
       "706         True                  0                 1    False  \n",
       "711         True                  0                 1     True  \n",
       "944         True                  0                 1     True  \n",
       "977        False                  1                 0     True  \n",
       "\n",
       "[5 rows x 41 columns]"
      ]
     },
     "execution_count": 9,
     "metadata": {},
     "output_type": "execute_result"
    }
   ],
   "source": [
    "df['Reported_Time'] = pd.to_datetime(df['Reported_Time'])\n",
    "df['Day_flag'] = (df.Reported_Time.dt.hour > 1) & (df.Reported_Time.dt.hour <18)\n",
    "df.head()"
   ]
  },
  {
   "cell_type": "markdown",
   "metadata": {},
   "source": [
    "Now we must create a dummy variable for the new column."
   ]
  },
  {
   "cell_type": "code",
   "execution_count": 10,
   "metadata": {},
   "outputs": [],
   "source": [
    "dummies = pd.get_dummies(df['Day_flag']).rename(columns=lambda x: 'Day_flag_' + str(x))#make dummie variables for the day time flag\n",
    "dummies\n",
    "df = pd.concat([df, dummies], axis=1) #the axis=1 means: add it to the columns\n"
   ]
  },
  {
   "cell_type": "markdown",
   "metadata": {},
   "source": [
    "# Variable Selection"
   ]
  },
  {
   "cell_type": "markdown",
   "metadata": {},
   "source": [
    "Now let's take a look at how the variables correlate to eachother so we can select which variables to use in our prediction model."
   ]
  },
  {
   "cell_type": "code",
   "execution_count": 11,
   "metadata": {},
   "outputs": [
    {
     "data": {
      "text/html": [
       "<div>\n",
       "<style scoped>\n",
       "    .dataframe tbody tr th:only-of-type {\n",
       "        vertical-align: middle;\n",
       "    }\n",
       "\n",
       "    .dataframe tbody tr th {\n",
       "        vertical-align: top;\n",
       "    }\n",
       "\n",
       "    .dataframe thead th {\n",
       "        text-align: right;\n",
       "    }\n",
       "</style>\n",
       "<table border=\"1\" class=\"dataframe\">\n",
       "  <thead>\n",
       "    <tr style=\"text-align: right;\">\n",
       "      <th></th>\n",
       "      <th>Zip Code</th>\n",
       "      <th>Age</th>\n",
       "      <th>Firearm_Used</th>\n",
       "      <th>CPD</th>\n",
       "      <th>EPD</th>\n",
       "      <th>MPD</th>\n",
       "      <th>NPD</th>\n",
       "      <th>OSPD</th>\n",
       "      <th>SCP</th>\n",
       "      <th>SPD</th>\n",
       "      <th>...</th>\n",
       "      <th>M</th>\n",
       "      <th>U</th>\n",
       "      <th>False</th>\n",
       "      <th>True</th>\n",
       "      <th>Weekday_flag</th>\n",
       "      <th>Weekday_flag_False</th>\n",
       "      <th>Weekday_flag_True</th>\n",
       "      <th>Day_flag</th>\n",
       "      <th>Day_flag_False</th>\n",
       "      <th>Day_flag_True</th>\n",
       "    </tr>\n",
       "  </thead>\n",
       "  <tbody>\n",
       "    <tr>\n",
       "      <td>Zip Code</td>\n",
       "      <td>1.000000</td>\n",
       "      <td>0.008747</td>\n",
       "      <td>0.006793</td>\n",
       "      <td>0.014658</td>\n",
       "      <td>0.018175</td>\n",
       "      <td>-0.070073</td>\n",
       "      <td>0.013515</td>\n",
       "      <td>0.000366</td>\n",
       "      <td>0.014106</td>\n",
       "      <td>0.013117</td>\n",
       "      <td>...</td>\n",
       "      <td>0.021846</td>\n",
       "      <td>0.001644</td>\n",
       "      <td>-0.006793</td>\n",
       "      <td>0.006793</td>\n",
       "      <td>0.039870</td>\n",
       "      <td>-0.039870</td>\n",
       "      <td>0.039870</td>\n",
       "      <td>0.039970</td>\n",
       "      <td>-0.039970</td>\n",
       "      <td>0.039970</td>\n",
       "    </tr>\n",
       "    <tr>\n",
       "      <td>Age</td>\n",
       "      <td>0.008747</td>\n",
       "      <td>1.000000</td>\n",
       "      <td>-0.064485</td>\n",
       "      <td>-0.127514</td>\n",
       "      <td>0.021030</td>\n",
       "      <td>0.050317</td>\n",
       "      <td>0.031015</td>\n",
       "      <td>-0.005328</td>\n",
       "      <td>0.040125</td>\n",
       "      <td>0.017648</td>\n",
       "      <td>...</td>\n",
       "      <td>0.060232</td>\n",
       "      <td>-0.051906</td>\n",
       "      <td>0.064485</td>\n",
       "      <td>-0.064485</td>\n",
       "      <td>0.016024</td>\n",
       "      <td>-0.016024</td>\n",
       "      <td>0.016024</td>\n",
       "      <td>0.076394</td>\n",
       "      <td>-0.076394</td>\n",
       "      <td>0.076394</td>\n",
       "    </tr>\n",
       "    <tr>\n",
       "      <td>Firearm_Used</td>\n",
       "      <td>0.006793</td>\n",
       "      <td>-0.064485</td>\n",
       "      <td>1.000000</td>\n",
       "      <td>-0.093895</td>\n",
       "      <td>0.111143</td>\n",
       "      <td>0.057085</td>\n",
       "      <td>-0.020499</td>\n",
       "      <td>-0.003254</td>\n",
       "      <td>-0.032246</td>\n",
       "      <td>-0.032760</td>\n",
       "      <td>...</td>\n",
       "      <td>0.025318</td>\n",
       "      <td>0.013114</td>\n",
       "      <td>-1.000000</td>\n",
       "      <td>1.000000</td>\n",
       "      <td>-0.035030</td>\n",
       "      <td>0.035030</td>\n",
       "      <td>-0.035030</td>\n",
       "      <td>-0.121262</td>\n",
       "      <td>0.121262</td>\n",
       "      <td>-0.121262</td>\n",
       "    </tr>\n",
       "    <tr>\n",
       "      <td>CPD</td>\n",
       "      <td>0.014658</td>\n",
       "      <td>-0.127514</td>\n",
       "      <td>-0.093895</td>\n",
       "      <td>1.000000</td>\n",
       "      <td>-0.321339</td>\n",
       "      <td>-0.276760</td>\n",
       "      <td>-0.187968</td>\n",
       "      <td>-0.009649</td>\n",
       "      <td>-0.228885</td>\n",
       "      <td>-0.212490</td>\n",
       "      <td>...</td>\n",
       "      <td>0.029382</td>\n",
       "      <td>0.030744</td>\n",
       "      <td>0.093895</td>\n",
       "      <td>-0.093895</td>\n",
       "      <td>-0.042507</td>\n",
       "      <td>0.042507</td>\n",
       "      <td>-0.042507</td>\n",
       "      <td>-0.028471</td>\n",
       "      <td>0.028471</td>\n",
       "      <td>-0.028471</td>\n",
       "    </tr>\n",
       "    <tr>\n",
       "      <td>EPD</td>\n",
       "      <td>0.018175</td>\n",
       "      <td>0.021030</td>\n",
       "      <td>0.111143</td>\n",
       "      <td>-0.321339</td>\n",
       "      <td>1.000000</td>\n",
       "      <td>-0.252294</td>\n",
       "      <td>-0.171352</td>\n",
       "      <td>-0.008796</td>\n",
       "      <td>-0.208652</td>\n",
       "      <td>-0.193706</td>\n",
       "      <td>...</td>\n",
       "      <td>0.021872</td>\n",
       "      <td>0.003156</td>\n",
       "      <td>-0.111143</td>\n",
       "      <td>0.111143</td>\n",
       "      <td>0.035657</td>\n",
       "      <td>-0.035657</td>\n",
       "      <td>0.035657</td>\n",
       "      <td>-0.005621</td>\n",
       "      <td>0.005621</td>\n",
       "      <td>-0.005621</td>\n",
       "    </tr>\n",
       "    <tr>\n",
       "      <td>MPD</td>\n",
       "      <td>-0.070073</td>\n",
       "      <td>0.050317</td>\n",
       "      <td>0.057085</td>\n",
       "      <td>-0.276760</td>\n",
       "      <td>-0.252294</td>\n",
       "      <td>1.000000</td>\n",
       "      <td>-0.147580</td>\n",
       "      <td>-0.007576</td>\n",
       "      <td>-0.179706</td>\n",
       "      <td>-0.166833</td>\n",
       "      <td>...</td>\n",
       "      <td>-0.037837</td>\n",
       "      <td>-0.026282</td>\n",
       "      <td>-0.057085</td>\n",
       "      <td>0.057085</td>\n",
       "      <td>0.002523</td>\n",
       "      <td>-0.002523</td>\n",
       "      <td>0.002523</td>\n",
       "      <td>0.023218</td>\n",
       "      <td>-0.023218</td>\n",
       "      <td>0.023218</td>\n",
       "    </tr>\n",
       "    <tr>\n",
       "      <td>NPD</td>\n",
       "      <td>0.013515</td>\n",
       "      <td>0.031015</td>\n",
       "      <td>-0.020499</td>\n",
       "      <td>-0.187968</td>\n",
       "      <td>-0.171352</td>\n",
       "      <td>-0.147580</td>\n",
       "      <td>1.000000</td>\n",
       "      <td>-0.005145</td>\n",
       "      <td>-0.122051</td>\n",
       "      <td>-0.113309</td>\n",
       "      <td>...</td>\n",
       "      <td>0.032359</td>\n",
       "      <td>-0.017850</td>\n",
       "      <td>0.020499</td>\n",
       "      <td>-0.020499</td>\n",
       "      <td>0.028466</td>\n",
       "      <td>-0.028466</td>\n",
       "      <td>0.028466</td>\n",
       "      <td>-0.020218</td>\n",
       "      <td>0.020218</td>\n",
       "      <td>-0.020218</td>\n",
       "    </tr>\n",
       "    <tr>\n",
       "      <td>OSPD</td>\n",
       "      <td>0.000366</td>\n",
       "      <td>-0.005328</td>\n",
       "      <td>-0.003254</td>\n",
       "      <td>-0.009649</td>\n",
       "      <td>-0.008796</td>\n",
       "      <td>-0.007576</td>\n",
       "      <td>-0.005145</td>\n",
       "      <td>1.000000</td>\n",
       "      <td>-0.006265</td>\n",
       "      <td>-0.005817</td>\n",
       "      <td>...</td>\n",
       "      <td>0.013788</td>\n",
       "      <td>-0.000916</td>\n",
       "      <td>0.003254</td>\n",
       "      <td>-0.003254</td>\n",
       "      <td>-0.019881</td>\n",
       "      <td>0.019881</td>\n",
       "      <td>-0.019881</td>\n",
       "      <td>0.008909</td>\n",
       "      <td>-0.008909</td>\n",
       "      <td>0.008909</td>\n",
       "    </tr>\n",
       "    <tr>\n",
       "      <td>SCP</td>\n",
       "      <td>0.014106</td>\n",
       "      <td>0.040125</td>\n",
       "      <td>-0.032246</td>\n",
       "      <td>-0.228885</td>\n",
       "      <td>-0.208652</td>\n",
       "      <td>-0.179706</td>\n",
       "      <td>-0.122051</td>\n",
       "      <td>-0.006265</td>\n",
       "      <td>1.000000</td>\n",
       "      <td>-0.137974</td>\n",
       "      <td>...</td>\n",
       "      <td>-0.011031</td>\n",
       "      <td>0.006262</td>\n",
       "      <td>0.032246</td>\n",
       "      <td>-0.032246</td>\n",
       "      <td>0.003668</td>\n",
       "      <td>-0.003668</td>\n",
       "      <td>0.003668</td>\n",
       "      <td>-0.010796</td>\n",
       "      <td>0.010796</td>\n",
       "      <td>-0.010796</td>\n",
       "    </tr>\n",
       "    <tr>\n",
       "      <td>SPD</td>\n",
       "      <td>0.013117</td>\n",
       "      <td>0.017648</td>\n",
       "      <td>-0.032760</td>\n",
       "      <td>-0.212490</td>\n",
       "      <td>-0.193706</td>\n",
       "      <td>-0.166833</td>\n",
       "      <td>-0.113309</td>\n",
       "      <td>-0.005817</td>\n",
       "      <td>-0.137974</td>\n",
       "      <td>1.000000</td>\n",
       "      <td>...</td>\n",
       "      <td>-0.042229</td>\n",
       "      <td>-0.005369</td>\n",
       "      <td>0.032760</td>\n",
       "      <td>-0.032760</td>\n",
       "      <td>-0.019958</td>\n",
       "      <td>0.019958</td>\n",
       "      <td>-0.019958</td>\n",
       "      <td>0.048088</td>\n",
       "      <td>-0.048088</td>\n",
       "      <td>0.048088</td>\n",
       "    </tr>\n",
       "    <tr>\n",
       "      <td>DVFlag_N</td>\n",
       "      <td>-0.007449</td>\n",
       "      <td>0.064376</td>\n",
       "      <td>-0.015405</td>\n",
       "      <td>-0.024980</td>\n",
       "      <td>0.000514</td>\n",
       "      <td>0.018124</td>\n",
       "      <td>0.015632</td>\n",
       "      <td>0.003787</td>\n",
       "      <td>0.015063</td>\n",
       "      <td>-0.018298</td>\n",
       "      <td>...</td>\n",
       "      <td>0.032420</td>\n",
       "      <td>0.013137</td>\n",
       "      <td>0.015405</td>\n",
       "      <td>-0.015405</td>\n",
       "      <td>0.004601</td>\n",
       "      <td>-0.004601</td>\n",
       "      <td>0.004601</td>\n",
       "      <td>0.121736</td>\n",
       "      <td>-0.121736</td>\n",
       "      <td>0.121736</td>\n",
       "    </tr>\n",
       "    <tr>\n",
       "      <td>DVFlag_Y</td>\n",
       "      <td>0.007449</td>\n",
       "      <td>-0.064376</td>\n",
       "      <td>0.015405</td>\n",
       "      <td>0.024980</td>\n",
       "      <td>-0.000514</td>\n",
       "      <td>-0.018124</td>\n",
       "      <td>-0.015632</td>\n",
       "      <td>-0.003787</td>\n",
       "      <td>-0.015063</td>\n",
       "      <td>0.018298</td>\n",
       "      <td>...</td>\n",
       "      <td>-0.032420</td>\n",
       "      <td>-0.013137</td>\n",
       "      <td>-0.015405</td>\n",
       "      <td>0.015405</td>\n",
       "      <td>-0.004601</td>\n",
       "      <td>0.004601</td>\n",
       "      <td>-0.004601</td>\n",
       "      <td>-0.121736</td>\n",
       "      <td>0.121736</td>\n",
       "      <td>-0.121736</td>\n",
       "    </tr>\n",
       "    <tr>\n",
       "      <td>F</td>\n",
       "      <td>-0.022058</td>\n",
       "      <td>-0.054378</td>\n",
       "      <td>-0.026841</td>\n",
       "      <td>-0.032920</td>\n",
       "      <td>-0.022256</td>\n",
       "      <td>0.040876</td>\n",
       "      <td>-0.030358</td>\n",
       "      <td>-0.013699</td>\n",
       "      <td>0.010329</td>\n",
       "      <td>0.042887</td>\n",
       "      <td>...</td>\n",
       "      <td>-0.993504</td>\n",
       "      <td>-0.047523</td>\n",
       "      <td>0.026841</td>\n",
       "      <td>-0.026841</td>\n",
       "      <td>-0.008624</td>\n",
       "      <td>0.008624</td>\n",
       "      <td>-0.008624</td>\n",
       "      <td>-0.000703</td>\n",
       "      <td>0.000703</td>\n",
       "      <td>-0.000703</td>\n",
       "    </tr>\n",
       "    <tr>\n",
       "      <td>M</td>\n",
       "      <td>0.021846</td>\n",
       "      <td>0.060232</td>\n",
       "      <td>0.025318</td>\n",
       "      <td>0.029382</td>\n",
       "      <td>0.021872</td>\n",
       "      <td>-0.037837</td>\n",
       "      <td>0.032359</td>\n",
       "      <td>0.013788</td>\n",
       "      <td>-0.011031</td>\n",
       "      <td>-0.042229</td>\n",
       "      <td>...</td>\n",
       "      <td>1.000000</td>\n",
       "      <td>-0.066455</td>\n",
       "      <td>-0.025318</td>\n",
       "      <td>0.025318</td>\n",
       "      <td>0.005548</td>\n",
       "      <td>-0.005548</td>\n",
       "      <td>0.005548</td>\n",
       "      <td>0.004800</td>\n",
       "      <td>-0.004800</td>\n",
       "      <td>0.004800</td>\n",
       "    </tr>\n",
       "    <tr>\n",
       "      <td>U</td>\n",
       "      <td>0.001644</td>\n",
       "      <td>-0.051906</td>\n",
       "      <td>0.013114</td>\n",
       "      <td>0.030744</td>\n",
       "      <td>0.003156</td>\n",
       "      <td>-0.026282</td>\n",
       "      <td>-0.017850</td>\n",
       "      <td>-0.000916</td>\n",
       "      <td>0.006262</td>\n",
       "      <td>-0.005369</td>\n",
       "      <td>...</td>\n",
       "      <td>-0.066455</td>\n",
       "      <td>1.000000</td>\n",
       "      <td>-0.013114</td>\n",
       "      <td>0.013114</td>\n",
       "      <td>0.026914</td>\n",
       "      <td>-0.026914</td>\n",
       "      <td>0.026914</td>\n",
       "      <td>-0.035974</td>\n",
       "      <td>0.035974</td>\n",
       "      <td>-0.035974</td>\n",
       "    </tr>\n",
       "    <tr>\n",
       "      <td>False</td>\n",
       "      <td>-0.006793</td>\n",
       "      <td>0.064485</td>\n",
       "      <td>-1.000000</td>\n",
       "      <td>0.093895</td>\n",
       "      <td>-0.111143</td>\n",
       "      <td>-0.057085</td>\n",
       "      <td>0.020499</td>\n",
       "      <td>0.003254</td>\n",
       "      <td>0.032246</td>\n",
       "      <td>0.032760</td>\n",
       "      <td>...</td>\n",
       "      <td>-0.025318</td>\n",
       "      <td>-0.013114</td>\n",
       "      <td>1.000000</td>\n",
       "      <td>-1.000000</td>\n",
       "      <td>0.035030</td>\n",
       "      <td>-0.035030</td>\n",
       "      <td>0.035030</td>\n",
       "      <td>0.121262</td>\n",
       "      <td>-0.121262</td>\n",
       "      <td>0.121262</td>\n",
       "    </tr>\n",
       "    <tr>\n",
       "      <td>True</td>\n",
       "      <td>0.006793</td>\n",
       "      <td>-0.064485</td>\n",
       "      <td>1.000000</td>\n",
       "      <td>-0.093895</td>\n",
       "      <td>0.111143</td>\n",
       "      <td>0.057085</td>\n",
       "      <td>-0.020499</td>\n",
       "      <td>-0.003254</td>\n",
       "      <td>-0.032246</td>\n",
       "      <td>-0.032760</td>\n",
       "      <td>...</td>\n",
       "      <td>0.025318</td>\n",
       "      <td>0.013114</td>\n",
       "      <td>-1.000000</td>\n",
       "      <td>1.000000</td>\n",
       "      <td>-0.035030</td>\n",
       "      <td>0.035030</td>\n",
       "      <td>-0.035030</td>\n",
       "      <td>-0.121262</td>\n",
       "      <td>0.121262</td>\n",
       "      <td>-0.121262</td>\n",
       "    </tr>\n",
       "    <tr>\n",
       "      <td>Weekday_flag</td>\n",
       "      <td>0.039870</td>\n",
       "      <td>0.016024</td>\n",
       "      <td>-0.035030</td>\n",
       "      <td>-0.042507</td>\n",
       "      <td>0.035657</td>\n",
       "      <td>0.002523</td>\n",
       "      <td>0.028466</td>\n",
       "      <td>-0.019881</td>\n",
       "      <td>0.003668</td>\n",
       "      <td>-0.019958</td>\n",
       "      <td>...</td>\n",
       "      <td>0.005548</td>\n",
       "      <td>0.026914</td>\n",
       "      <td>0.035030</td>\n",
       "      <td>-0.035030</td>\n",
       "      <td>1.000000</td>\n",
       "      <td>-1.000000</td>\n",
       "      <td>1.000000</td>\n",
       "      <td>0.037704</td>\n",
       "      <td>-0.037704</td>\n",
       "      <td>0.037704</td>\n",
       "    </tr>\n",
       "    <tr>\n",
       "      <td>Weekday_flag_False</td>\n",
       "      <td>-0.039870</td>\n",
       "      <td>-0.016024</td>\n",
       "      <td>0.035030</td>\n",
       "      <td>0.042507</td>\n",
       "      <td>-0.035657</td>\n",
       "      <td>-0.002523</td>\n",
       "      <td>-0.028466</td>\n",
       "      <td>0.019881</td>\n",
       "      <td>-0.003668</td>\n",
       "      <td>0.019958</td>\n",
       "      <td>...</td>\n",
       "      <td>-0.005548</td>\n",
       "      <td>-0.026914</td>\n",
       "      <td>-0.035030</td>\n",
       "      <td>0.035030</td>\n",
       "      <td>-1.000000</td>\n",
       "      <td>1.000000</td>\n",
       "      <td>-1.000000</td>\n",
       "      <td>-0.037704</td>\n",
       "      <td>0.037704</td>\n",
       "      <td>-0.037704</td>\n",
       "    </tr>\n",
       "    <tr>\n",
       "      <td>Weekday_flag_True</td>\n",
       "      <td>0.039870</td>\n",
       "      <td>0.016024</td>\n",
       "      <td>-0.035030</td>\n",
       "      <td>-0.042507</td>\n",
       "      <td>0.035657</td>\n",
       "      <td>0.002523</td>\n",
       "      <td>0.028466</td>\n",
       "      <td>-0.019881</td>\n",
       "      <td>0.003668</td>\n",
       "      <td>-0.019958</td>\n",
       "      <td>...</td>\n",
       "      <td>0.005548</td>\n",
       "      <td>0.026914</td>\n",
       "      <td>0.035030</td>\n",
       "      <td>-0.035030</td>\n",
       "      <td>1.000000</td>\n",
       "      <td>-1.000000</td>\n",
       "      <td>1.000000</td>\n",
       "      <td>0.037704</td>\n",
       "      <td>-0.037704</td>\n",
       "      <td>0.037704</td>\n",
       "    </tr>\n",
       "    <tr>\n",
       "      <td>Day_flag</td>\n",
       "      <td>0.039970</td>\n",
       "      <td>0.076394</td>\n",
       "      <td>-0.121262</td>\n",
       "      <td>-0.028471</td>\n",
       "      <td>-0.005621</td>\n",
       "      <td>0.023218</td>\n",
       "      <td>-0.020218</td>\n",
       "      <td>0.008909</td>\n",
       "      <td>-0.010796</td>\n",
       "      <td>0.048088</td>\n",
       "      <td>...</td>\n",
       "      <td>0.004800</td>\n",
       "      <td>-0.035974</td>\n",
       "      <td>0.121262</td>\n",
       "      <td>-0.121262</td>\n",
       "      <td>0.037704</td>\n",
       "      <td>-0.037704</td>\n",
       "      <td>0.037704</td>\n",
       "      <td>1.000000</td>\n",
       "      <td>-1.000000</td>\n",
       "      <td>1.000000</td>\n",
       "    </tr>\n",
       "    <tr>\n",
       "      <td>Day_flag_False</td>\n",
       "      <td>-0.039970</td>\n",
       "      <td>-0.076394</td>\n",
       "      <td>0.121262</td>\n",
       "      <td>0.028471</td>\n",
       "      <td>0.005621</td>\n",
       "      <td>-0.023218</td>\n",
       "      <td>0.020218</td>\n",
       "      <td>-0.008909</td>\n",
       "      <td>0.010796</td>\n",
       "      <td>-0.048088</td>\n",
       "      <td>...</td>\n",
       "      <td>-0.004800</td>\n",
       "      <td>0.035974</td>\n",
       "      <td>-0.121262</td>\n",
       "      <td>0.121262</td>\n",
       "      <td>-0.037704</td>\n",
       "      <td>0.037704</td>\n",
       "      <td>-0.037704</td>\n",
       "      <td>-1.000000</td>\n",
       "      <td>1.000000</td>\n",
       "      <td>-1.000000</td>\n",
       "    </tr>\n",
       "    <tr>\n",
       "      <td>Day_flag_True</td>\n",
       "      <td>0.039970</td>\n",
       "      <td>0.076394</td>\n",
       "      <td>-0.121262</td>\n",
       "      <td>-0.028471</td>\n",
       "      <td>-0.005621</td>\n",
       "      <td>0.023218</td>\n",
       "      <td>-0.020218</td>\n",
       "      <td>0.008909</td>\n",
       "      <td>-0.010796</td>\n",
       "      <td>0.048088</td>\n",
       "      <td>...</td>\n",
       "      <td>0.004800</td>\n",
       "      <td>-0.035974</td>\n",
       "      <td>0.121262</td>\n",
       "      <td>-0.121262</td>\n",
       "      <td>0.037704</td>\n",
       "      <td>-0.037704</td>\n",
       "      <td>0.037704</td>\n",
       "      <td>1.000000</td>\n",
       "      <td>-1.000000</td>\n",
       "      <td>1.000000</td>\n",
       "    </tr>\n",
       "  </tbody>\n",
       "</table>\n",
       "<p>23 rows × 23 columns</p>\n",
       "</div>"
      ],
      "text/plain": [
       "                    Zip Code       Age  Firearm_Used       CPD       EPD  \\\n",
       "Zip Code            1.000000  0.008747      0.006793  0.014658  0.018175   \n",
       "Age                 0.008747  1.000000     -0.064485 -0.127514  0.021030   \n",
       "Firearm_Used        0.006793 -0.064485      1.000000 -0.093895  0.111143   \n",
       "CPD                 0.014658 -0.127514     -0.093895  1.000000 -0.321339   \n",
       "EPD                 0.018175  0.021030      0.111143 -0.321339  1.000000   \n",
       "MPD                -0.070073  0.050317      0.057085 -0.276760 -0.252294   \n",
       "NPD                 0.013515  0.031015     -0.020499 -0.187968 -0.171352   \n",
       "OSPD                0.000366 -0.005328     -0.003254 -0.009649 -0.008796   \n",
       "SCP                 0.014106  0.040125     -0.032246 -0.228885 -0.208652   \n",
       "SPD                 0.013117  0.017648     -0.032760 -0.212490 -0.193706   \n",
       "DVFlag_N           -0.007449  0.064376     -0.015405 -0.024980  0.000514   \n",
       "DVFlag_Y            0.007449 -0.064376      0.015405  0.024980 -0.000514   \n",
       "F                  -0.022058 -0.054378     -0.026841 -0.032920 -0.022256   \n",
       "M                   0.021846  0.060232      0.025318  0.029382  0.021872   \n",
       "U                   0.001644 -0.051906      0.013114  0.030744  0.003156   \n",
       "False              -0.006793  0.064485     -1.000000  0.093895 -0.111143   \n",
       "True                0.006793 -0.064485      1.000000 -0.093895  0.111143   \n",
       "Weekday_flag        0.039870  0.016024     -0.035030 -0.042507  0.035657   \n",
       "Weekday_flag_False -0.039870 -0.016024      0.035030  0.042507 -0.035657   \n",
       "Weekday_flag_True   0.039870  0.016024     -0.035030 -0.042507  0.035657   \n",
       "Day_flag            0.039970  0.076394     -0.121262 -0.028471 -0.005621   \n",
       "Day_flag_False     -0.039970 -0.076394      0.121262  0.028471  0.005621   \n",
       "Day_flag_True       0.039970  0.076394     -0.121262 -0.028471 -0.005621   \n",
       "\n",
       "                         MPD       NPD      OSPD       SCP       SPD  ...  \\\n",
       "Zip Code           -0.070073  0.013515  0.000366  0.014106  0.013117  ...   \n",
       "Age                 0.050317  0.031015 -0.005328  0.040125  0.017648  ...   \n",
       "Firearm_Used        0.057085 -0.020499 -0.003254 -0.032246 -0.032760  ...   \n",
       "CPD                -0.276760 -0.187968 -0.009649 -0.228885 -0.212490  ...   \n",
       "EPD                -0.252294 -0.171352 -0.008796 -0.208652 -0.193706  ...   \n",
       "MPD                 1.000000 -0.147580 -0.007576 -0.179706 -0.166833  ...   \n",
       "NPD                -0.147580  1.000000 -0.005145 -0.122051 -0.113309  ...   \n",
       "OSPD               -0.007576 -0.005145  1.000000 -0.006265 -0.005817  ...   \n",
       "SCP                -0.179706 -0.122051 -0.006265  1.000000 -0.137974  ...   \n",
       "SPD                -0.166833 -0.113309 -0.005817 -0.137974  1.000000  ...   \n",
       "DVFlag_N            0.018124  0.015632  0.003787  0.015063 -0.018298  ...   \n",
       "DVFlag_Y           -0.018124 -0.015632 -0.003787 -0.015063  0.018298  ...   \n",
       "F                   0.040876 -0.030358 -0.013699  0.010329  0.042887  ...   \n",
       "M                  -0.037837  0.032359  0.013788 -0.011031 -0.042229  ...   \n",
       "U                  -0.026282 -0.017850 -0.000916  0.006262 -0.005369  ...   \n",
       "False              -0.057085  0.020499  0.003254  0.032246  0.032760  ...   \n",
       "True                0.057085 -0.020499 -0.003254 -0.032246 -0.032760  ...   \n",
       "Weekday_flag        0.002523  0.028466 -0.019881  0.003668 -0.019958  ...   \n",
       "Weekday_flag_False -0.002523 -0.028466  0.019881 -0.003668  0.019958  ...   \n",
       "Weekday_flag_True   0.002523  0.028466 -0.019881  0.003668 -0.019958  ...   \n",
       "Day_flag            0.023218 -0.020218  0.008909 -0.010796  0.048088  ...   \n",
       "Day_flag_False     -0.023218  0.020218 -0.008909  0.010796 -0.048088  ...   \n",
       "Day_flag_True       0.023218 -0.020218  0.008909 -0.010796  0.048088  ...   \n",
       "\n",
       "                           M         U     False      True  Weekday_flag  \\\n",
       "Zip Code            0.021846  0.001644 -0.006793  0.006793      0.039870   \n",
       "Age                 0.060232 -0.051906  0.064485 -0.064485      0.016024   \n",
       "Firearm_Used        0.025318  0.013114 -1.000000  1.000000     -0.035030   \n",
       "CPD                 0.029382  0.030744  0.093895 -0.093895     -0.042507   \n",
       "EPD                 0.021872  0.003156 -0.111143  0.111143      0.035657   \n",
       "MPD                -0.037837 -0.026282 -0.057085  0.057085      0.002523   \n",
       "NPD                 0.032359 -0.017850  0.020499 -0.020499      0.028466   \n",
       "OSPD                0.013788 -0.000916  0.003254 -0.003254     -0.019881   \n",
       "SCP                -0.011031  0.006262  0.032246 -0.032246      0.003668   \n",
       "SPD                -0.042229 -0.005369  0.032760 -0.032760     -0.019958   \n",
       "DVFlag_N            0.032420  0.013137  0.015405 -0.015405      0.004601   \n",
       "DVFlag_Y           -0.032420 -0.013137 -0.015405  0.015405     -0.004601   \n",
       "F                  -0.993504 -0.047523  0.026841 -0.026841     -0.008624   \n",
       "M                   1.000000 -0.066455 -0.025318  0.025318      0.005548   \n",
       "U                  -0.066455  1.000000 -0.013114  0.013114      0.026914   \n",
       "False              -0.025318 -0.013114  1.000000 -1.000000      0.035030   \n",
       "True                0.025318  0.013114 -1.000000  1.000000     -0.035030   \n",
       "Weekday_flag        0.005548  0.026914  0.035030 -0.035030      1.000000   \n",
       "Weekday_flag_False -0.005548 -0.026914 -0.035030  0.035030     -1.000000   \n",
       "Weekday_flag_True   0.005548  0.026914  0.035030 -0.035030      1.000000   \n",
       "Day_flag            0.004800 -0.035974  0.121262 -0.121262      0.037704   \n",
       "Day_flag_False     -0.004800  0.035974 -0.121262  0.121262     -0.037704   \n",
       "Day_flag_True       0.004800 -0.035974  0.121262 -0.121262      0.037704   \n",
       "\n",
       "                    Weekday_flag_False  Weekday_flag_True  Day_flag  \\\n",
       "Zip Code                     -0.039870           0.039870  0.039970   \n",
       "Age                          -0.016024           0.016024  0.076394   \n",
       "Firearm_Used                  0.035030          -0.035030 -0.121262   \n",
       "CPD                           0.042507          -0.042507 -0.028471   \n",
       "EPD                          -0.035657           0.035657 -0.005621   \n",
       "MPD                          -0.002523           0.002523  0.023218   \n",
       "NPD                          -0.028466           0.028466 -0.020218   \n",
       "OSPD                          0.019881          -0.019881  0.008909   \n",
       "SCP                          -0.003668           0.003668 -0.010796   \n",
       "SPD                           0.019958          -0.019958  0.048088   \n",
       "DVFlag_N                     -0.004601           0.004601  0.121736   \n",
       "DVFlag_Y                      0.004601          -0.004601 -0.121736   \n",
       "F                             0.008624          -0.008624 -0.000703   \n",
       "M                            -0.005548           0.005548  0.004800   \n",
       "U                            -0.026914           0.026914 -0.035974   \n",
       "False                        -0.035030           0.035030  0.121262   \n",
       "True                          0.035030          -0.035030 -0.121262   \n",
       "Weekday_flag                 -1.000000           1.000000  0.037704   \n",
       "Weekday_flag_False            1.000000          -1.000000 -0.037704   \n",
       "Weekday_flag_True            -1.000000           1.000000  0.037704   \n",
       "Day_flag                     -0.037704           0.037704  1.000000   \n",
       "Day_flag_False                0.037704          -0.037704 -1.000000   \n",
       "Day_flag_True                -0.037704           0.037704  1.000000   \n",
       "\n",
       "                    Day_flag_False  Day_flag_True  \n",
       "Zip Code                 -0.039970       0.039970  \n",
       "Age                      -0.076394       0.076394  \n",
       "Firearm_Used              0.121262      -0.121262  \n",
       "CPD                       0.028471      -0.028471  \n",
       "EPD                       0.005621      -0.005621  \n",
       "MPD                      -0.023218       0.023218  \n",
       "NPD                       0.020218      -0.020218  \n",
       "OSPD                     -0.008909       0.008909  \n",
       "SCP                       0.010796      -0.010796  \n",
       "SPD                      -0.048088       0.048088  \n",
       "DVFlag_N                 -0.121736       0.121736  \n",
       "DVFlag_Y                  0.121736      -0.121736  \n",
       "F                         0.000703      -0.000703  \n",
       "M                        -0.004800       0.004800  \n",
       "U                         0.035974      -0.035974  \n",
       "False                    -0.121262       0.121262  \n",
       "True                      0.121262      -0.121262  \n",
       "Weekday_flag             -0.037704       0.037704  \n",
       "Weekday_flag_False        0.037704      -0.037704  \n",
       "Weekday_flag_True        -0.037704       0.037704  \n",
       "Day_flag                 -1.000000       1.000000  \n",
       "Day_flag_False            1.000000      -1.000000  \n",
       "Day_flag_True            -1.000000       1.000000  \n",
       "\n",
       "[23 rows x 23 columns]"
      ]
     },
     "execution_count": 11,
     "metadata": {},
     "output_type": "execute_result"
    }
   ],
   "source": [
    "df.corr()"
   ]
  },
  {
   "cell_type": "markdown",
   "metadata": {},
   "source": [
    "Now we need to decide which variables to include. Any variable that correlates with `Firearm_Used` by more than 0.05 will be included.\n",
    "\n",
    "This means the following variables will be included:\n",
    "    - Sex\n",
    "    - Age\n",
    "    - Area\n",
    "    - Day_flag"
   ]
  },
  {
   "cell_type": "markdown",
   "metadata": {},
   "source": [
    "# Analyze Data"
   ]
  },
  {
   "cell_type": "markdown",
   "metadata": {},
   "source": [
    "How do these variables relate to `Firearm_Used`?"
   ]
  },
  {
   "cell_type": "code",
   "execution_count": 12,
   "metadata": {},
   "outputs": [
    {
     "data": {
      "text/html": [
       "<div>\n",
       "<style scoped>\n",
       "    .dataframe tbody tr th:only-of-type {\n",
       "        vertical-align: middle;\n",
       "    }\n",
       "\n",
       "    .dataframe tbody tr th {\n",
       "        vertical-align: top;\n",
       "    }\n",
       "\n",
       "    .dataframe thead th {\n",
       "        text-align: right;\n",
       "    }\n",
       "</style>\n",
       "<table border=\"1\" class=\"dataframe\">\n",
       "  <thead>\n",
       "    <tr style=\"text-align: right;\">\n",
       "      <th>Sex</th>\n",
       "      <th>F</th>\n",
       "      <th>M</th>\n",
       "      <th>U</th>\n",
       "    </tr>\n",
       "    <tr>\n",
       "      <th>Firearm_Used</th>\n",
       "      <th></th>\n",
       "      <th></th>\n",
       "      <th></th>\n",
       "    </tr>\n",
       "  </thead>\n",
       "  <tbody>\n",
       "    <tr>\n",
       "      <td>False</td>\n",
       "      <td>1522</td>\n",
       "      <td>2108</td>\n",
       "      <td>11</td>\n",
       "    </tr>\n",
       "    <tr>\n",
       "      <td>True</td>\n",
       "      <td>51</td>\n",
       "      <td>94</td>\n",
       "      <td>1</td>\n",
       "    </tr>\n",
       "  </tbody>\n",
       "</table>\n",
       "</div>"
      ],
      "text/plain": [
       "Sex              F     M   U\n",
       "Firearm_Used                \n",
       "False         1522  2108  11\n",
       "True            51    94   1"
      ]
     },
     "execution_count": 12,
     "metadata": {},
     "output_type": "execute_result"
    }
   ],
   "source": [
    "pd.crosstab(df[\"Firearm_Used\"], df[\"Sex\"])\n"
   ]
  },
  {
   "cell_type": "code",
   "execution_count": 13,
   "metadata": {},
   "outputs": [
    {
     "data": {
      "image/png": "[encoded data removed]",
      "text/plain": [
       "<Figure size 432x288 with 1 Axes>"
      ]
     },
     "metadata": {
      "needs_background": "light"
     },
     "output_type": "display_data"
    }
   ],
   "source": [
    "sns.countplot(x=\"Sex\", hue=\"Firearm_Used\", data=df)\n",
    "plt.show()"
   ]
  },
  {
   "cell_type": "markdown",
   "metadata": {},
   "source": [
    "Overall, the majority of suspects are male and the majority of crimes are committed without a firearm present. However, it is clear that the crimes committed by males are more likely to have a firearm present than those committed by females or persons of unkown gender."
   ]
  },
  {
   "cell_type": "code",
   "execution_count": 14,
   "metadata": {},
   "outputs": [
    {
     "data": {
      "text/html": [
       "<div>\n",
       "<style scoped>\n",
       "    .dataframe tbody tr th:only-of-type {\n",
       "        vertical-align: middle;\n",
       "    }\n",
       "\n",
       "    .dataframe tbody tr th {\n",
       "        vertical-align: top;\n",
       "    }\n",
       "\n",
       "    .dataframe thead th {\n",
       "        text-align: right;\n",
       "    }\n",
       "</style>\n",
       "<table border=\"1\" class=\"dataframe\">\n",
       "  <thead>\n",
       "    <tr style=\"text-align: right;\">\n",
       "      <th>Age</th>\n",
       "      <th>18.0</th>\n",
       "      <th>19.0</th>\n",
       "      <th>20.0</th>\n",
       "      <th>21.0</th>\n",
       "      <th>22.0</th>\n",
       "      <th>23.0</th>\n",
       "      <th>24.0</th>\n",
       "      <th>25.0</th>\n",
       "      <th>26.0</th>\n",
       "      <th>27.0</th>\n",
       "      <th>...</th>\n",
       "      <th>87.0</th>\n",
       "      <th>88.0</th>\n",
       "      <th>89.0</th>\n",
       "      <th>90.0</th>\n",
       "      <th>91.0</th>\n",
       "      <th>92.0</th>\n",
       "      <th>93.0</th>\n",
       "      <th>95.0</th>\n",
       "      <th>96.0</th>\n",
       "      <th>97.0</th>\n",
       "    </tr>\n",
       "    <tr>\n",
       "      <th>Firearm_Used</th>\n",
       "      <th></th>\n",
       "      <th></th>\n",
       "      <th></th>\n",
       "      <th></th>\n",
       "      <th></th>\n",
       "      <th></th>\n",
       "      <th></th>\n",
       "      <th></th>\n",
       "      <th></th>\n",
       "      <th></th>\n",
       "      <th></th>\n",
       "      <th></th>\n",
       "      <th></th>\n",
       "      <th></th>\n",
       "      <th></th>\n",
       "      <th></th>\n",
       "      <th></th>\n",
       "      <th></th>\n",
       "      <th></th>\n",
       "      <th></th>\n",
       "      <th></th>\n",
       "    </tr>\n",
       "  </thead>\n",
       "  <tbody>\n",
       "    <tr>\n",
       "      <td>False</td>\n",
       "      <td>44</td>\n",
       "      <td>30</td>\n",
       "      <td>50</td>\n",
       "      <td>80</td>\n",
       "      <td>77</td>\n",
       "      <td>92</td>\n",
       "      <td>89</td>\n",
       "      <td>94</td>\n",
       "      <td>114</td>\n",
       "      <td>98</td>\n",
       "      <td>...</td>\n",
       "      <td>3</td>\n",
       "      <td>3</td>\n",
       "      <td>1</td>\n",
       "      <td>2</td>\n",
       "      <td>1</td>\n",
       "      <td>2</td>\n",
       "      <td>1</td>\n",
       "      <td>1</td>\n",
       "      <td>1</td>\n",
       "      <td>1</td>\n",
       "    </tr>\n",
       "    <tr>\n",
       "      <td>True</td>\n",
       "      <td>2</td>\n",
       "      <td>7</td>\n",
       "      <td>3</td>\n",
       "      <td>4</td>\n",
       "      <td>2</td>\n",
       "      <td>5</td>\n",
       "      <td>2</td>\n",
       "      <td>2</td>\n",
       "      <td>3</td>\n",
       "      <td>6</td>\n",
       "      <td>...</td>\n",
       "      <td>0</td>\n",
       "      <td>0</td>\n",
       "      <td>0</td>\n",
       "      <td>0</td>\n",
       "      <td>0</td>\n",
       "      <td>0</td>\n",
       "      <td>0</td>\n",
       "      <td>0</td>\n",
       "      <td>0</td>\n",
       "      <td>0</td>\n",
       "    </tr>\n",
       "  </tbody>\n",
       "</table>\n",
       "<p>2 rows × 79 columns</p>\n",
       "</div>"
      ],
      "text/plain": [
       "Age           18.0  19.0  20.0  21.0  22.0  23.0  24.0  25.0  26.0  27.0  ...  \\\n",
       "Firearm_Used                                                              ...   \n",
       "False           44    30    50    80    77    92    89    94   114    98  ...   \n",
       "True             2     7     3     4     2     5     2     2     3     6  ...   \n",
       "\n",
       "Age           87.0  88.0  89.0  90.0  91.0  92.0  93.0  95.0  96.0  97.0  \n",
       "Firearm_Used                                                              \n",
       "False            3     3     1     2     1     2     1     1     1     1  \n",
       "True             0     0     0     0     0     0     0     0     0     0  \n",
       "\n",
       "[2 rows x 79 columns]"
      ]
     },
     "execution_count": 14,
     "metadata": {},
     "output_type": "execute_result"
    }
   ],
   "source": [
    "pd.crosstab(df[\"Firearm_Used\"], df[\"Age\"])"
   ]
  },
  {
   "cell_type": "code",
   "execution_count": 15,
   "metadata": {},
   "outputs": [
    {
     "data": {
      "image/png": "[encoded data removed]",
      "text/plain": [
       "<Figure size 436.875x360 with 1 Axes>"
      ]
     },
     "metadata": {
      "needs_background": "light"
     },
     "output_type": "display_data"
    }
   ],
   "source": [
    "sns.catplot(x=\"Age\", y=\"Sex\", hue=\"Firearm_Used\", kind=\"violin\", data=df)\n",
    "plt.title('Firearm used by age and gender')\n",
    "plt.show()"
   ]
  },
  {
   "cell_type": "markdown",
   "metadata": {},
   "source": [
    "The distribution for the variables `Firearm_Used` `Age` and `Sex`,can be seen in this violin plot. It is clear that on average, most crimes are committed by people ages 18-45. Males below 40 are most likely to have commit a crime with a firearm, but for women this relationship is not as clear cut. Overall, women appear to commit crimes with a firearm at a higher age than men do."
   ]
  },
  {
   "cell_type": "code",
   "execution_count": 16,
   "metadata": {},
   "outputs": [
    {
     "data": {
      "text/html": [
       "<div>\n",
       "<style scoped>\n",
       "    .dataframe tbody tr th:only-of-type {\n",
       "        vertical-align: middle;\n",
       "    }\n",
       "\n",
       "    .dataframe tbody tr th {\n",
       "        vertical-align: top;\n",
       "    }\n",
       "\n",
       "    .dataframe thead th {\n",
       "        text-align: right;\n",
       "    }\n",
       "</style>\n",
       "<table border=\"1\" class=\"dataframe\">\n",
       "  <thead>\n",
       "    <tr style=\"text-align: right;\">\n",
       "      <th>Area</th>\n",
       "      <th>CPD</th>\n",
       "      <th>EPD</th>\n",
       "      <th>MPD</th>\n",
       "      <th>NPD</th>\n",
       "      <th>OSPD</th>\n",
       "      <th>SCP</th>\n",
       "      <th>SPD</th>\n",
       "    </tr>\n",
       "    <tr>\n",
       "      <th>Firearm_Used</th>\n",
       "      <th></th>\n",
       "      <th></th>\n",
       "      <th></th>\n",
       "      <th></th>\n",
       "      <th></th>\n",
       "      <th></th>\n",
       "      <th></th>\n",
       "    </tr>\n",
       "  </thead>\n",
       "  <tbody>\n",
       "    <tr>\n",
       "      <td>False</td>\n",
       "      <td>979</td>\n",
       "      <td>791</td>\n",
       "      <td>634</td>\n",
       "      <td>336</td>\n",
       "      <td>1</td>\n",
       "      <td>479</td>\n",
       "      <td>421</td>\n",
       "    </tr>\n",
       "    <tr>\n",
       "      <td>True</td>\n",
       "      <td>8</td>\n",
       "      <td>67</td>\n",
       "      <td>42</td>\n",
       "      <td>9</td>\n",
       "      <td>0</td>\n",
       "      <td>11</td>\n",
       "      <td>9</td>\n",
       "    </tr>\n",
       "  </tbody>\n",
       "</table>\n",
       "</div>"
      ],
      "text/plain": [
       "Area          CPD  EPD  MPD  NPD  OSPD  SCP  SPD\n",
       "Firearm_Used                                    \n",
       "False         979  791  634  336     1  479  421\n",
       "True            8   67   42    9     0   11    9"
      ]
     },
     "execution_count": 16,
     "metadata": {},
     "output_type": "execute_result"
    }
   ],
   "source": [
    "pd.crosstab(df[\"Firearm_Used\"], df[\"Area\"])"
   ]
  },
  {
   "cell_type": "code",
   "execution_count": 17,
   "metadata": {},
   "outputs": [
    {
     "data": {
      "image/png": "[encoded data removed]",
      "text/plain": [
       "<Figure size 432x288 with 1 Axes>"
      ]
     },
     "metadata": {
      "needs_background": "light"
     },
     "output_type": "display_data"
    }
   ],
   "source": [
    "sns.countplot(x=\"Area\", hue=\"Firearm_Used\", data=df)\n",
    "plt.show()"
   ]
  },
  {
   "cell_type": "markdown",
   "metadata": {},
   "source": [
    "EPD and MPD are the areas where the suspect is most likely to carry a firearm. However, it is relationships like this that can often lead to bias- officers assume that all suspects from poorer/ historically more violent areas will be violent and posses firearms. This is why we are including many other variables, in the hopes to offset this bias and make a truly accurate prediction."
   ]
  },
  {
   "cell_type": "code",
   "execution_count": 18,
   "metadata": {},
   "outputs": [
    {
     "data": {
      "text/html": [
       "<div>\n",
       "<style scoped>\n",
       "    .dataframe tbody tr th:only-of-type {\n",
       "        vertical-align: middle;\n",
       "    }\n",
       "\n",
       "    .dataframe tbody tr th {\n",
       "        vertical-align: top;\n",
       "    }\n",
       "\n",
       "    .dataframe thead th {\n",
       "        text-align: right;\n",
       "    }\n",
       "</style>\n",
       "<table border=\"1\" class=\"dataframe\">\n",
       "  <thead>\n",
       "    <tr style=\"text-align: right;\">\n",
       "      <th>Day_flag</th>\n",
       "      <th>False</th>\n",
       "      <th>True</th>\n",
       "    </tr>\n",
       "    <tr>\n",
       "      <th>Firearm_Used</th>\n",
       "      <th></th>\n",
       "      <th></th>\n",
       "    </tr>\n",
       "  </thead>\n",
       "  <tbody>\n",
       "    <tr>\n",
       "      <td>False</td>\n",
       "      <td>804</td>\n",
       "      <td>2837</td>\n",
       "    </tr>\n",
       "    <tr>\n",
       "      <td>True</td>\n",
       "      <td>71</td>\n",
       "      <td>75</td>\n",
       "    </tr>\n",
       "  </tbody>\n",
       "</table>\n",
       "</div>"
      ],
      "text/plain": [
       "Day_flag      False  True \n",
       "Firearm_Used              \n",
       "False           804   2837\n",
       "True             71     75"
      ]
     },
     "execution_count": 18,
     "metadata": {},
     "output_type": "execute_result"
    }
   ],
   "source": [
    "pd.crosstab(df[\"Firearm_Used\"], df[\"Day_flag\"])"
   ]
  },
  {
   "cell_type": "code",
   "execution_count": 19,
   "metadata": {},
   "outputs": [
    {
     "data": {
      "image/png": "[encoded data removed]",
      "text/plain": [
       "<Figure size 432x288 with 1 Axes>"
      ]
     },
     "metadata": {
      "needs_background": "light"
     },
     "output_type": "display_data"
    }
   ],
   "source": [
    "sns.countplot(x=\"Day_flag\", hue=\"Firearm_Used\", data=df)\n",
    "plt.show()"
   ]
  },
  {
   "cell_type": "markdown",
   "metadata": {},
   "source": [
    "Overall, most crimes are reported to have occured during the daytime _(2,912 during the day as opposed to 875 at night)_. \n",
    "\n",
    "While the total number of crimes committed with a firearm present is very similar _(75 during the day and 71 at night)_ the percentage is quite different. \n",
    "\n",
    "Out of all the crimes that occured during the day in Kansas City in 2020, 25% contained a firearm; and out of the crimes committed at night, 81% contained a firearm."
   ]
  },
  {
   "cell_type": "markdown",
   "metadata": {},
   "source": [
    "###### The correlation of all of the selected variables are illustrated in a heatmap below. "
   ]
  },
  {
   "cell_type": "code",
   "execution_count": 20,
   "metadata": {},
   "outputs": [
    {
     "data": {
      "image/png": "[encoded data removed]",
      "text/plain": [
       "<Figure size 432x288 with 2 Axes>"
      ]
     },
     "metadata": {
      "needs_background": "light"
     },
     "output_type": "display_data"
    }
   ],
   "source": [
    "corr = df[['M', 'F', 'Age', 'CPD', 'EPD', 'MPD', 'NPD', 'OSPD', 'SCP', 'Day_flag_False', 'Firearm_Used']].corr() \n",
    "sns.heatmap(corr, xticklabels=corr.columns, yticklabels=corr.columns, cmap=\"YlGnBu\") #the last two arguments set the column names\n",
    "plt.show()"
   ]
  },
  {
   "cell_type": "markdown",
   "metadata": {},
   "source": [
    "The darker colors show a positive correlation. The dark blue line going diagnally across the heatmap shows 100% positive correlation. The lighter colors show a strong negative correlation- this can be best illustrated by the Male and Female variables- Male correlates positively 100% with male and negatively 100% with female. "
   ]
  },
  {
   "cell_type": "markdown",
   "metadata": {},
   "source": [
    "# Random Forest Algorithm"
   ]
  },
  {
   "cell_type": "markdown",
   "metadata": {},
   "source": [
    "The `Random Forest Algorithm` is an extension of the `decision tree algorithm`, it is a supervised learning algorithm that improves accuracy at the cost of interpritability. The decision tree algorithm uses training data (historical data) to predict the class or branch. And Random Forest builds multiple decision trees and merges them to make a more stable prediction. "
   ]
  },
  {
   "cell_type": "code",
   "execution_count": 21,
   "metadata": {},
   "outputs": [],
   "source": [
    "from sklearn.preprocessing import normalize #get the function needed to normalize our data.\n",
    "\n",
    "X = df[['M', 'F', 'Age', 'CPD', 'EPD', 'MPD', 'NPD', 'OSPD', 'SCP', 'Day_flag_False']] #create the X matrix\n",
    "X = normalize(X) #normalize the matrix to put everything on the same scale\n",
    "y = df['Firearm_Used'] #create the y-variable\n",
    "X_train, X_test, y_train, y_test = train_test_split(X, y, test_size=0.3, random_state=1) #split the data, store it into different variables"
   ]
  },
  {
   "cell_type": "code",
   "execution_count": 22,
   "metadata": {},
   "outputs": [
    {
     "data": {
      "text/plain": [
       "0.9366754617414248"
      ]
     },
     "execution_count": 22,
     "metadata": {},
     "output_type": "execute_result"
    }
   ],
   "source": [
    "from sklearn.ensemble import RandomForestClassifier\n",
    "rf = RandomForestClassifier(n_estimators = 1, max_features =3, random_state=1) #create a Random forest-classifier \n",
    "rf = rf.fit(X_train, y_train) #this fits the k-nearest neigbor model with the train data\n",
    "rf.score(X_test, y_test) #calculate the fit on the test data"
   ]
  },
  {
   "cell_type": "markdown",
   "metadata": {},
   "source": [
    "93% of firearm uses are predicted accurately, this is very good. But let's look at the confusion matrix to see how well the model identifies the different scenarios. A confusion matrix gives the different classes and the number of predictions for each combination."
   ]
  },
  {
   "cell_type": "code",
   "execution_count": 23,
   "metadata": {},
   "outputs": [
    {
     "data": {
      "text/plain": [
       "array([[1062,   19],\n",
       "       [  53,    3]])"
      ]
     },
     "execution_count": 23,
     "metadata": {},
     "output_type": "execute_result"
    }
   ],
   "source": [
    "from sklearn.metrics import confusion_matrix\n",
    "y_test_pred = rf.predict(X_test) #the predicted values\n",
    "cm = confusion_matrix(y_test, y_test_pred) #creates a \"confusion matrix\"\n",
    "cm"
   ]
  },
  {
   "cell_type": "code",
   "execution_count": 24,
   "metadata": {},
   "outputs": [
    {
     "data": {
      "text/html": [
       "<div>\n",
       "<style scoped>\n",
       "    .dataframe tbody tr th:only-of-type {\n",
       "        vertical-align: middle;\n",
       "    }\n",
       "\n",
       "    .dataframe tbody tr th {\n",
       "        vertical-align: top;\n",
       "    }\n",
       "\n",
       "    .dataframe thead th {\n",
       "        text-align: right;\n",
       "    }\n",
       "</style>\n",
       "<table border=\"1\" class=\"dataframe\">\n",
       "  <thead>\n",
       "    <tr style=\"text-align: right;\">\n",
       "      <th></th>\n",
       "      <th>Firearm NOT present (predicted)</th>\n",
       "      <th>Firearm present (predicted)</th>\n",
       "    </tr>\n",
       "  </thead>\n",
       "  <tbody>\n",
       "    <tr>\n",
       "      <td>Firearm NOT present (actual)</td>\n",
       "      <td>1062</td>\n",
       "      <td>19</td>\n",
       "    </tr>\n",
       "    <tr>\n",
       "      <td>Firearm present (actual)</td>\n",
       "      <td>53</td>\n",
       "      <td>3</td>\n",
       "    </tr>\n",
       "  </tbody>\n",
       "</table>\n",
       "</div>"
      ],
      "text/plain": [
       "                              Firearm NOT present (predicted)  \\\n",
       "Firearm NOT present (actual)                             1062   \n",
       "Firearm present (actual)                                   53   \n",
       "\n",
       "                              Firearm present (predicted)  \n",
       "Firearm NOT present (actual)                           19  \n",
       "Firearm present (actual)                                3  "
      ]
     },
     "execution_count": 24,
     "metadata": {},
     "output_type": "execute_result"
    }
   ],
   "source": [
    "conf_matrix = pd.DataFrame(cm, index=['Firearm NOT present (actual)', 'Firearm present (actual)'], columns = ['Firearm NOT present (predicted)', 'Firearm present (predicted)']) \n",
    "conf_matrix"
   ]
  },
  {
   "cell_type": "markdown",
   "metadata": {},
   "source": [
    "The way to read this is that of the cases where a firearm is present, 3 cases are correctly predicted as `firearm present`, 19 crimes that were predicted as having firearms present actually did NOT have a firearm. And of those who were predicted to NOT have any firearms present, 1062 were predicted correctly, while 53 actually did have a firearm present. The _recall_ and _precision_ for the firearm present predictions:\n",
    "\n",
    "$recall = \\frac{3}{53 + 3} = .05$\n",
    "\n",
    "$precision = \\frac{3 }{ 19 + 3} = .13$\n",
    "\n",
    "\n",
    "The _Recall_ is 5%\n",
    "\n",
    "The _Precision_ is 13%\n",
    "\n",
    "If the goal was to make sure officers are prepared for all violent situations than the`Random Forest Algorithm` would be the best option. But since the goal is to reduce confrontation, the `K Nearest Neighbor Algorithm` is better (see results below). The `Random Forest Algorithm` predicts 19 cases of a firearm being present even though a firearm wasn't actually present, this is 19 instances where a suspect is unneccesarily shot at even though he or she was unarmed."
   ]
  },
  {
   "cell_type": "markdown",
   "metadata": {},
   "source": [
    "# K-nearest Neighbor Algorithm"
   ]
  },
  {
   "cell_type": "markdown",
   "metadata": {},
   "source": [
    "The _K-nearest neighbor_ algorithm determines the value of a data point by using the data points that are _close_ to it. kNN classifier determines the class of a data point by majority voting principle. If k is set to 5, the classes of 5 closest points are checked. Prediction is done according to the majority class. Similarly, kNN regression takes the mean value of 5 closest points."
   ]
  },
  {
   "cell_type": "markdown",
   "metadata": {},
   "source": [
    "### n_neighbors = 1"
   ]
  },
  {
   "cell_type": "code",
   "execution_count": 25,
   "metadata": {},
   "outputs": [
    {
     "data": {
      "text/plain": [
       "0.9138082673702727"
      ]
     },
     "execution_count": 25,
     "metadata": {},
     "output_type": "execute_result"
    }
   ],
   "source": [
    "from sklearn.neighbors import KNeighborsClassifier #the object class we need\n",
    "\n",
    "knn = KNeighborsClassifier(n_neighbors=1) #create a KNN-classifier with 5 neighbors (default)\n",
    "knn = knn.fit(X_train, y_train) #this fits the k-nearest neigbor model with the train data\n",
    "knn.score(X_test, y_test) #calculate the fit on the test data"
   ]
  },
  {
   "cell_type": "markdown",
   "metadata": {},
   "source": [
    "The accuracy is 91%, this is lower than before when n_neighbors = 5 (accuracy of 95%). But let's look at the confusion matrix to determine precision and recall."
   ]
  },
  {
   "cell_type": "code",
   "execution_count": 26,
   "metadata": {},
   "outputs": [
    {
     "data": {
      "text/plain": [
       "array([[1035,   46],\n",
       "       [  52,    4]])"
      ]
     },
     "execution_count": 26,
     "metadata": {},
     "output_type": "execute_result"
    }
   ],
   "source": [
    "from sklearn.metrics import confusion_matrix\n",
    "y_test_pred = knn.predict(X_test) #the predicted values\n",
    "cm = confusion_matrix(y_test, y_test_pred) #creates a \"confusion matrix\"\n",
    "cm"
   ]
  },
  {
   "cell_type": "code",
   "execution_count": 27,
   "metadata": {
    "scrolled": true
   },
   "outputs": [
    {
     "data": {
      "text/html": [
       "<div>\n",
       "<style scoped>\n",
       "    .dataframe tbody tr th:only-of-type {\n",
       "        vertical-align: middle;\n",
       "    }\n",
       "\n",
       "    .dataframe tbody tr th {\n",
       "        vertical-align: top;\n",
       "    }\n",
       "\n",
       "    .dataframe thead th {\n",
       "        text-align: right;\n",
       "    }\n",
       "</style>\n",
       "<table border=\"1\" class=\"dataframe\">\n",
       "  <thead>\n",
       "    <tr style=\"text-align: right;\">\n",
       "      <th></th>\n",
       "      <th>Firearm NOT present (predicted)</th>\n",
       "      <th>Firearm present (predicted)</th>\n",
       "    </tr>\n",
       "  </thead>\n",
       "  <tbody>\n",
       "    <tr>\n",
       "      <td>Firearm NOT present (actual)</td>\n",
       "      <td>1035</td>\n",
       "      <td>46</td>\n",
       "    </tr>\n",
       "    <tr>\n",
       "      <td>Firearm present (actual)</td>\n",
       "      <td>52</td>\n",
       "      <td>4</td>\n",
       "    </tr>\n",
       "  </tbody>\n",
       "</table>\n",
       "</div>"
      ],
      "text/plain": [
       "                              Firearm NOT present (predicted)  \\\n",
       "Firearm NOT present (actual)                             1035   \n",
       "Firearm present (actual)                                   52   \n",
       "\n",
       "                              Firearm present (predicted)  \n",
       "Firearm NOT present (actual)                           46  \n",
       "Firearm present (actual)                                4  "
      ]
     },
     "execution_count": 27,
     "metadata": {},
     "output_type": "execute_result"
    }
   ],
   "source": [
    "conf_matrix = pd.DataFrame(cm, index=['Firearm NOT present (actual)', 'Firearm present (actual)'], columns = ['Firearm NOT present (predicted)', 'Firearm present (predicted)']) \n",
    "conf_matrix"
   ]
  },
  {
   "cell_type": "markdown",
   "metadata": {},
   "source": [
    "The way to read this is that of the cases where a firearm is present, 4 case are correctly predicted as 'firearm present', 52 crimes that were predicted as having no firearms present actually did have a firearm. And of those who were predicted to NOT have any firearms present, 1035 were predicted correctly, while 52 actually did have a firearm present. The _recall_ and _recision_ for the firearm present predictions:\n",
    "\n",
    "$recall = \\frac{4}{52 + 4} = .07$\n",
    "\n",
    "$precision = \\frac{4 }{ 46 + 4} = .08$\n",
    "\n",
    "\n",
    "The _Recall_ is 7%\n",
    "\n",
    "The _Precision_ is 8%\n",
    "\n",
    "In this scenario, the prediction was less accurate. But more importantly, the precision is lower. Since the goal is to reduce confrontation; having 46 cases where the officer is told the suspect has a firearm when in fact they do not, is not good. That's 46 opportunities where an officer could accidentally kill or injure an unarmed person because the prediction model told them to expect the suspect to have a firearm. \n",
    "\n",
    "We might improve our scores by trying out different values of _k_."
   ]
  },
  {
   "cell_type": "markdown",
   "metadata": {},
   "source": [
    "### n_neighbors = 50"
   ]
  },
  {
   "cell_type": "code",
   "execution_count": 28,
   "metadata": {},
   "outputs": [
    {
     "data": {
      "text/plain": [
       "0.9507475813544415"
      ]
     },
     "execution_count": 28,
     "metadata": {},
     "output_type": "execute_result"
    }
   ],
   "source": [
    "from sklearn.neighbors import KNeighborsClassifier #the object class we need\n",
    "\n",
    "knn = KNeighborsClassifier(n_neighbors=50) #create a KNN-classifier with 5 neighbors (default)\n",
    "knn = knn.fit(X_train, y_train) #this fits the k-nearest neigbor model with the train data\n",
    "knn.score(X_test, y_test) #calculate the fit on the test data"
   ]
  },
  {
   "cell_type": "markdown",
   "metadata": {},
   "source": [
    "The accuracy is 95%, although this may seem like the best option, what would happen if we predict that a firearm is not present 100% of the time?"
   ]
  },
  {
   "cell_type": "code",
   "execution_count": 29,
   "metadata": {},
   "outputs": [
    {
     "data": {
      "text/plain": [
       "array([[1081,    0],\n",
       "       [  56,    0]])"
      ]
     },
     "execution_count": 29,
     "metadata": {},
     "output_type": "execute_result"
    }
   ],
   "source": [
    "from sklearn.metrics import confusion_matrix\n",
    "y_test_pred = knn.predict(X_test) #the predicted values\n",
    "cm = confusion_matrix(y_test, y_test_pred) #creates a \"confusion matrix\"\n",
    "cm"
   ]
  },
  {
   "cell_type": "code",
   "execution_count": 30,
   "metadata": {},
   "outputs": [
    {
     "data": {
      "text/html": [
       "<div>\n",
       "<style scoped>\n",
       "    .dataframe tbody tr th:only-of-type {\n",
       "        vertical-align: middle;\n",
       "    }\n",
       "\n",
       "    .dataframe tbody tr th {\n",
       "        vertical-align: top;\n",
       "    }\n",
       "\n",
       "    .dataframe thead th {\n",
       "        text-align: right;\n",
       "    }\n",
       "</style>\n",
       "<table border=\"1\" class=\"dataframe\">\n",
       "  <thead>\n",
       "    <tr style=\"text-align: right;\">\n",
       "      <th></th>\n",
       "      <th>Firearm NOT present (predicted)</th>\n",
       "      <th>Firearm present (predicted)</th>\n",
       "    </tr>\n",
       "  </thead>\n",
       "  <tbody>\n",
       "    <tr>\n",
       "      <td>Firearm NOT present (actual)</td>\n",
       "      <td>1081</td>\n",
       "      <td>0</td>\n",
       "    </tr>\n",
       "    <tr>\n",
       "      <td>Firearm present (actual)</td>\n",
       "      <td>56</td>\n",
       "      <td>0</td>\n",
       "    </tr>\n",
       "  </tbody>\n",
       "</table>\n",
       "</div>"
      ],
      "text/plain": [
       "                              Firearm NOT present (predicted)  \\\n",
       "Firearm NOT present (actual)                             1081   \n",
       "Firearm present (actual)                                   56   \n",
       "\n",
       "                              Firearm present (predicted)  \n",
       "Firearm NOT present (actual)                            0  \n",
       "Firearm present (actual)                                0  "
      ]
     },
     "execution_count": 30,
     "metadata": {},
     "output_type": "execute_result"
    }
   ],
   "source": [
    "conf_matrix = pd.DataFrame(cm, index=['Firearm NOT present (actual)', 'Firearm present (actual)'], columns = ['Firearm NOT present (predicted)', 'Firearm present (predicted)']) \n",
    "conf_matrix"
   ]
  },
  {
   "cell_type": "markdown",
   "metadata": {},
   "source": [
    "The way to read this is that of the cases where a firearm is present, 0 case are correctly predicted as `firearm present`, 56 crimes that were predicted as having no firearms present actually did have a firearm. And of those who were predicted to NOT have any firearms present, 1035 were predicted correctly, while 56 actually did have a firearm present. The _recall_ and _recision_ for the firearm present predictions:\n",
    "\n",
    "$recall = \\frac{0}{56 + 0} = .00$\n",
    "\n",
    "$precision = \\frac{0 }{ 0 + 0} = .00$\n",
    "\n",
    "\n",
    "The _Recall_ is 0%\n",
    "\n",
    "The _Precision_ is 0%\n",
    "\n",
    "In this scenario, the overall prediction was more accurate than when n_neighbors= 1; however, it appears that the algorithm just predicts that a firearm is not present 100% of the time. This is why the recall and precision is so low. Even if we have a 95% accuracy, it is not a good prediction method to simply assume that no suspects are carrying firearms, this could potentially result in officer injury.\n",
    "\n",
    "We might improve our scores by trying out different values of _k_."
   ]
  },
  {
   "cell_type": "markdown",
   "metadata": {},
   "source": [
    "### n_neighbors = 5"
   ]
  },
  {
   "cell_type": "code",
   "execution_count": 31,
   "metadata": {},
   "outputs": [
    {
     "data": {
      "text/plain": [
       "0.9498680738786279"
      ]
     },
     "execution_count": 31,
     "metadata": {},
     "output_type": "execute_result"
    }
   ],
   "source": [
    "from sklearn.neighbors import KNeighborsClassifier #the object class we need\n",
    "\n",
    "knn = KNeighborsClassifier(n_neighbors=5) #create a KNN-classifier with 5 neighbors (default)\n",
    "knn = knn.fit(X_train, y_train) #this fits the k-nearest neigbor model with the train data\n",
    "knn.score(X_test, y_test) #calculate the fit on the test data"
   ]
  },
  {
   "cell_type": "markdown",
   "metadata": {},
   "source": [
    "95% of firearm uses are predicted accurately, this is very good. But let's look at the confusion matrix to see how well the model identifies the different scenarios. A confusion matrix gives the different classes and the number of predictions for each combination."
   ]
  },
  {
   "cell_type": "code",
   "execution_count": 32,
   "metadata": {},
   "outputs": [
    {
     "data": {
      "text/plain": [
       "array([[1079,    2],\n",
       "       [  55,    1]])"
      ]
     },
     "execution_count": 32,
     "metadata": {},
     "output_type": "execute_result"
    }
   ],
   "source": [
    "from sklearn.metrics import confusion_matrix\n",
    "y_test_pred = knn.predict(X_test) #the predicted values\n",
    "cm = confusion_matrix(y_test, y_test_pred) #creates a \"confusion matrix\"\n",
    "cm"
   ]
  },
  {
   "cell_type": "code",
   "execution_count": 33,
   "metadata": {},
   "outputs": [
    {
     "data": {
      "text/html": [
       "<div>\n",
       "<style scoped>\n",
       "    .dataframe tbody tr th:only-of-type {\n",
       "        vertical-align: middle;\n",
       "    }\n",
       "\n",
       "    .dataframe tbody tr th {\n",
       "        vertical-align: top;\n",
       "    }\n",
       "\n",
       "    .dataframe thead th {\n",
       "        text-align: right;\n",
       "    }\n",
       "</style>\n",
       "<table border=\"1\" class=\"dataframe\">\n",
       "  <thead>\n",
       "    <tr style=\"text-align: right;\">\n",
       "      <th></th>\n",
       "      <th>Firearm NOT present (predicted)</th>\n",
       "      <th>Firearm present (predicted)</th>\n",
       "    </tr>\n",
       "  </thead>\n",
       "  <tbody>\n",
       "    <tr>\n",
       "      <td>Firearm NOT present (actual)</td>\n",
       "      <td>1079</td>\n",
       "      <td>2</td>\n",
       "    </tr>\n",
       "    <tr>\n",
       "      <td>Firearm present (actual)</td>\n",
       "      <td>55</td>\n",
       "      <td>1</td>\n",
       "    </tr>\n",
       "  </tbody>\n",
       "</table>\n",
       "</div>"
      ],
      "text/plain": [
       "                              Firearm NOT present (predicted)  \\\n",
       "Firearm NOT present (actual)                             1079   \n",
       "Firearm present (actual)                                   55   \n",
       "\n",
       "                              Firearm present (predicted)  \n",
       "Firearm NOT present (actual)                            2  \n",
       "Firearm present (actual)                                1  "
      ]
     },
     "execution_count": 33,
     "metadata": {},
     "output_type": "execute_result"
    }
   ],
   "source": [
    "conf_matrix = pd.DataFrame(cm, index=['Firearm NOT present (actual)', 'Firearm present (actual)'], columns = ['Firearm NOT present (predicted)', 'Firearm present (predicted)']) \n",
    "conf_matrix"
   ]
  },
  {
   "cell_type": "markdown",
   "metadata": {},
   "source": [
    "# Results "
   ]
  },
  {
   "cell_type": "markdown",
   "metadata": {},
   "source": [
    "###### Using KNN Algorithm with n_neighbors = 5"
   ]
  },
  {
   "cell_type": "markdown",
   "metadata": {},
   "source": [
    "The way to read this is that of the cases where a firearm is present, 1 case is correctly predicted as `firearm present`, 55 crimes that were predicted as having no firearms present actually did. And of those who were predicted to NOT have any firearms present, 1079 were predicted correctly, while 55 actually did have a firearm present. The _recall_ and _precision_ for the firearm present predictions:\n",
    "\n",
    "$recall = \\frac{1}{55 + 1} = .017$\n",
    "\n",
    "$precision = \\frac{1 }{ 2 + 1} = .33$\n",
    "\n",
    "\n",
    "The _Recall_ is 17%\n",
    "\n",
    "The _Precision_ is 33%\n",
    "\n",
    "We might improve our scores by trying out different values of _k_, or including more variables."
   ]
  },
  {
   "cell_type": "code",
   "execution_count": 35,
   "metadata": {},
   "outputs": [
    {
     "data": {
      "image/png": "[encoded data removed]",
      "text/plain": [
       "<Figure size 432x288 with 2 Axes>"
      ]
     },
     "metadata": {
      "needs_background": "light"
     },
     "output_type": "display_data"
    }
   ],
   "source": [
    "sns.heatmap(conf_matrix, xticklabels=conf_matrix.columns, yticklabels=conf_matrix.columns, cmap=\"YlGnBu\") #the last two arguments set the column names\n",
    "plt.show()"
   ]
  },
  {
   "cell_type": "markdown",
   "metadata": {},
   "source": [
    "As depicted by the heatmap, the prediction works much better when a firearm is NOT present than when one is. Although ideally, we want our predictions to be 100% accurate accross the board, this is often difficult (if not impossible to achieve). Since the goal of this prediction system is to reduce confrontation the precision is more important than the accuracy. "
   ]
  },
  {
   "cell_type": "markdown",
   "metadata": {},
   "source": [
    "After multiple trials, it was determined that the `K Nearest Neighbor Algorithm` with n_neighbors = 5 is the most accurate prediction. "
   ]
  },
  {
   "cell_type": "markdown",
   "metadata": {},
   "source": [
    "The _Accuracy_ = 95%\n",
    "\n",
    "The _Recall_ is 17%\n",
    "\n",
    "The _Precision_ is 33%"
   ]
  },
  {
   "cell_type": "markdown",
   "metadata": {},
   "source": [
    "# Improving the prediction model"
   ]
  },
  {
   "cell_type": "markdown",
   "metadata": {},
   "source": [
    "Although the accuracy is quite high, the precision and recall are not great considering there are 55 instances where no firearm was predicted but the suspect did have a firearm. Let's see if we can try to improve this by including some additional variables."
   ]
  },
  {
   "cell_type": "code",
   "execution_count": 47,
   "metadata": {},
   "outputs": [],
   "source": [
    "dummies = pd.get_dummies(df['Offense'])#make dummie variables for the area\n",
    "dummies\n",
    "df = pd.concat([df, dummies], axis=1) #the axis=1 means: add it to the columns\n",
    "\n"
   ]
  },
  {
   "cell_type": "code",
   "execution_count": 48,
   "metadata": {},
   "outputs": [],
   "source": [
    "dummies = pd.get_dummies(df['Description'])#make dummie variables for the area\n",
    "dummies\n",
    "df = pd.concat([df, dummies], axis=1) #the axis=1 means: add it to the columns\n"
   ]
  },
  {
   "cell_type": "code",
   "execution_count": 49,
   "metadata": {},
   "outputs": [],
   "source": [
    "from sklearn.preprocessing import normalize #get the function needed to normalize our data.\n",
    "\n",
    "x = df[['M', 'F', 'Age', 'CPD', 'EPD', 'MPD', 'NPD', 'OSPD', 'SCP', 'Day_flag_False','Stolen Auto', 'Trafficking in Identifications', 'Stealing – Shoplift', 'Alcohol Influence Report', 'Assault (Aggravated)','City Weapons Offense', 'Disorderly Conduct','Weapon Law Violations','Aggravated Assault']] #create the X matrix\n",
    "x = normalize(x) #normalize the matrix to put everything on the same scale\n",
    "y = df['Firearm_Used'] #create the y-variable\n",
    "x_train, x_test, y_train, y_test = train_test_split(x, y, test_size=0.3, random_state=1) #split the data, store it into different variables"
   ]
  },
  {
   "cell_type": "markdown",
   "metadata": {},
   "source": [
    "# Improved Results"
   ]
  },
  {
   "cell_type": "markdown",
   "metadata": {},
   "source": [
    "###### Using KNN Algorithm with n_neighbors = 5\n",
    "###### Including extra variables from Offense and Description "
   ]
  },
  {
   "cell_type": "code",
   "execution_count": 52,
   "metadata": {},
   "outputs": [
    {
     "data": {
      "text/plain": [
       "0.980650835532102"
      ]
     },
     "execution_count": 52,
     "metadata": {},
     "output_type": "execute_result"
    }
   ],
   "source": [
    "from sklearn.neighbors import KNeighborsClassifier #the object class we need\n",
    "\n",
    "knn = KNeighborsClassifier(n_neighbors=5) #create a KNN-classifier with 5 neighbors (default)\n",
    "knn = knn.fit(x_train, y_train) #this fits the k-nearest neigbor model with the train data\n",
    "knn.score(x_test, y_test) #calculate the fit on the test data"
   ]
  },
  {
   "cell_type": "markdown",
   "metadata": {},
   "source": [
    "98% of firearm uses are predicted accurately, this is very good. But let's look at the confusion matrix to see how well the model identifies the different scenarios. A confusion matrix gives the different classes and the number of predictions for each combination."
   ]
  },
  {
   "cell_type": "code",
   "execution_count": 53,
   "metadata": {},
   "outputs": [
    {
     "data": {
      "text/plain": [
       "array([[1078,    3],\n",
       "       [  19,   37]])"
      ]
     },
     "execution_count": 53,
     "metadata": {},
     "output_type": "execute_result"
    }
   ],
   "source": [
    "from sklearn.metrics import confusion_matrix\n",
    "y_test_pred = knn.predict(x_test) #the predicted values\n",
    "cm = confusion_matrix(y_test, y_test_pred) #creates a \"confusion matrix\"\n",
    "cm"
   ]
  },
  {
   "cell_type": "code",
   "execution_count": 54,
   "metadata": {},
   "outputs": [
    {
     "data": {
      "text/html": [
       "<div>\n",
       "<style scoped>\n",
       "    .dataframe tbody tr th:only-of-type {\n",
       "        vertical-align: middle;\n",
       "    }\n",
       "\n",
       "    .dataframe tbody tr th {\n",
       "        vertical-align: top;\n",
       "    }\n",
       "\n",
       "    .dataframe thead th {\n",
       "        text-align: right;\n",
       "    }\n",
       "</style>\n",
       "<table border=\"1\" class=\"dataframe\">\n",
       "  <thead>\n",
       "    <tr style=\"text-align: right;\">\n",
       "      <th></th>\n",
       "      <th>Firearm NOT present (predicted)</th>\n",
       "      <th>Firearm present (predicted)</th>\n",
       "    </tr>\n",
       "  </thead>\n",
       "  <tbody>\n",
       "    <tr>\n",
       "      <td>Firearm NOT present (actual)</td>\n",
       "      <td>1078</td>\n",
       "      <td>3</td>\n",
       "    </tr>\n",
       "    <tr>\n",
       "      <td>Firearm present (actual)</td>\n",
       "      <td>19</td>\n",
       "      <td>37</td>\n",
       "    </tr>\n",
       "  </tbody>\n",
       "</table>\n",
       "</div>"
      ],
      "text/plain": [
       "                              Firearm NOT present (predicted)  \\\n",
       "Firearm NOT present (actual)                             1078   \n",
       "Firearm present (actual)                                   19   \n",
       "\n",
       "                              Firearm present (predicted)  \n",
       "Firearm NOT present (actual)                            3  \n",
       "Firearm present (actual)                               37  "
      ]
     },
     "execution_count": 54,
     "metadata": {},
     "output_type": "execute_result"
    }
   ],
   "source": [
    "conf_matrix2 = pd.DataFrame(cm, index=['Firearm NOT present (actual)', 'Firearm present (actual)'], columns = ['Firearm NOT present (predicted)', 'Firearm present (predicted)']) \n",
    "conf_matrix2\n"
   ]
  },
  {
   "cell_type": "markdown",
   "metadata": {},
   "source": [
    "The way to read this is that of the cases where a firearm is present, 37 cases are correctly predicted as 'firearm present', 19 crimes that were predicted as having no firearms present actually did contain a firearm. And of those who were predicted to NOT have any firearms present, 1078 were predicted correctly, while 3 actually did have a firearm present. The _recall_ and _precision_ for the firearm present predictions:\n",
    "\n",
    "$recall = \\frac{37}{19 + 37} = .66$\n",
    "\n",
    "$precision = \\frac{37 }{ 3 + 37} = .92$\n",
    "\n",
    "\n",
    "The _Recall_ is 66%\n",
    "\n",
    "The _Precision_ is 92%\n",
    "\n",
    "These are by far the best results we have gotten. Even though we do have a slight increase (from 2 to 3) for the instance where there is NO firearm present but the model predicts there is a firearm; the model has become much more effective at predicting the instances for when a firearm is present. Overall, the accuracy, recall, and precision have all improved by adding these additional variables. "
   ]
  },
  {
   "cell_type": "code",
   "execution_count": 61,
   "metadata": {},
   "outputs": [
    {
     "data": {
      "text/plain": [
       "<matplotlib.axes._subplots.AxesSubplot at 0x1a20a11b10>"
      ]
     },
     "execution_count": 61,
     "metadata": {},
     "output_type": "execute_result"
    },
    {
     "data": {
      "image/png": "[encoded data removed]",
      "text/plain": [
       "<Figure size 432x288 with 2 Axes>"
      ]
     },
     "metadata": {
      "needs_background": "light"
     },
     "output_type": "display_data"
    }
   ],
   "source": [
    "import numpy as np\n",
    "sns.heatmap(conf_matrix2/np.sum(conf_matrix2), annot=True, \n",
    "            fmt='.2%', cmap='Blues')"
   ]
  },
  {
   "cell_type": "markdown",
   "metadata": {},
   "source": [
    "The prediction is most accurate when a firearm is NOT present (top left). Since the goal is to de-escelate police situations and avoid violence, this is good; we have successfully reduced the number of instances where the suspect has NO firearm but the model predicts that there is a firearm present. Conversely, by adding the new variables, the instances where a firearm is correctly predicted as present (bottom right) have increased."
   ]
  },
  {
   "cell_type": "code",
   "execution_count": 62,
   "metadata": {},
   "outputs": [
    {
     "data": {
      "image/png": "[encoded data removed]",
      "text/plain": [
       "<Figure size 432x288 with 1 Axes>"
      ]
     },
     "metadata": {
      "needs_background": "light"
     },
     "output_type": "display_data"
    }
   ],
   "source": [
    "import matplotlib.pyplot as plt\n",
    "\n",
    "N = 2\n",
    "Nofirearm = (1078, 3)\n",
    "firearm = (37,19)\n",
    "ind = np.arange(N)    # the x locations for the groups\n",
    "width = 0.45       # the width of the bars: can also be len(x) sequence\n",
    "\n",
    "p1 = plt.bar(ind, Nofirearm, width)\n",
    "p2 = plt.bar(ind, firearm, width, bottom=Nofirearm)\n",
    "\n",
    "plt.ylabel('Scores')\n",
    "plt.title('Accurate and false predictions')\n",
    "plt.xticks(ind, ('No Firearm', 'Firearm'))\n",
    "#plt.yticks(np.arange(0, 81, 10))\n",
    "plt.legend((p1[0], p2[0]), ('True prediction', 'False positive'))\n",
    "\n",
    "plt.show()"
   ]
  },
  {
   "cell_type": "markdown",
   "metadata": {},
   "source": [
    "Clearly there are many more instances of a firearm not being present (left) than of a firearm being present (Right). For the _No Firearm_ category there were 1078 correct predictions and 19 false positives- meaning the model predicted there was no firearm present when there actually was a firearm present. For the instances where a firearm was present, 37 were predicted correctly and there were 3 false positives. "
   ]
  },
  {
   "cell_type": "markdown",
   "metadata": {},
   "source": [
    "# Discussion"
   ]
  },
  {
   "cell_type": "code",
   "execution_count": 69,
   "metadata": {},
   "outputs": [
    {
     "name": "stdout",
     "output_type": "stream",
     "text": [
      "With 5 neighbors and Offense and Discription included the result is:\n",
      "\n",
      "              precision    recall  f1-score   support\n",
      "\n",
      "       False       0.98      1.00      0.99      1081\n",
      "        True       0.93      0.66      0.77        56\n",
      "\n",
      "    accuracy                           0.98      1137\n",
      "   macro avg       0.95      0.83      0.88      1137\n",
      "weighted avg       0.98      0.98      0.98      1137\n",
      "\n"
     ]
    }
   ],
   "source": [
    "from sklearn.metrics import classification_report\n",
    "\n",
    "print(f\"With 5 neighbors and Offense and Discription included the result is:\")\n",
    "print(\"\")\n",
    "print(classification_report(y_test, y_test_pred)) # A built-in function to print out accuracy, precision and recall"
   ]
  },
  {
   "cell_type": "markdown",
   "metadata": {},
   "source": [
    "The goal of this prediction model is to create a predictive policing model that reduces discrimination and confrontation in police responses. By focusing on keeping _recall_ and _precision_ as high as possible, we ensure that the model returns as few \"false positives\" as possible. Essentially we want to reduce instances where the model predicts a firearm present but the suspect is actually unarmed. Additionally, it is important for the model to accurately predict the instances where the suspect does have a firearm, otherwise the model is useless. \n",
    "\n",
    "As shown by the chart above, when a firearm is NOT Present, the model has a precision of 98%, and when a firearm is present the precision is 93%. This information is vital to include when providing an officer with a prediction. By warning the officers that there is a 7% chance that the suspect does NOT have a firearm even when the prediction model says he does, it will also reduce confrontation. \n",
    "\n",
    "By providing officers with this prediction it avoids a situation where an officer is forced to make assumptions based on potentially discriminatory factors such as; the neighborhood in which the crime occurs, the race of the suspect, etc. Humans often naturally rely on stereotypes to save time in quick thinking scenarios, by creating accurate and precise prediction models, we reduce the need to rely on stereotypes and can instead rely on more accurate and less biased prediction models. "
   ]
  },
  {
   "cell_type": "markdown",
   "metadata": {},
   "source": [
    "##### References"
   ]
  },
  {
   "cell_type": "markdown",
   "metadata": {},
   "source": [
    "Ratcliffe, J. H. (2004). The hotspot matrix: A framework for the spatio‐temporal targeting of crime reduction. Police Practice and Research, 5(1), 5–23. "
   ]
  }
 ],
 "metadata": {
  "kernelspec": {
   "display_name": "Python 3",
   "language": "python",
   "name": "python3"
  },
  "language_info": {
   "codemirror_mode": {
    "name": "ipython",
    "version": 3
   },
   "file_extension": ".py",
   "mimetype": "text/x-python",
   "name": "python",
   "nbconvert_exporter": "python",
   "pygments_lexer": "ipython3",
   "version": "3.7.4"
  }
 },
 "nbformat": 4,
 "nbformat_minor": 2
}
